{
 "cells": [
  {
   "cell_type": "code",
   "execution_count": 8,
   "metadata": {},
   "outputs": [],
   "source": [
    "import requests\n",
    "import os\n",
    "import re\n",
    "import sys\n",
    "import json\n",
    "import requests\n",
    "import argparse\n",
    "import time\n",
    "import codecs\n",
    "from bs4 import BeautifulSoup\n",
    "from six import u"
   ]
  },
  {
   "cell_type": "code",
   "execution_count": 9,
   "metadata": {},
   "outputs": [],
   "source": [
    "def fetch(url):\n",
    "    response = requests.get(url)\n",
    "    response = requests.get(url, cookies={'over18': '1'})  # 一直向 server 回答滿 18 歲了 !\n",
    "    return response\n"
   ]
  },
  {
   "cell_type": "code",
   "execution_count": 10,
   "metadata": {},
   "outputs": [],
   "source": [
    "widths = [\n",
    "        (126,    1), (159,    0), (687,     1), (710,   0), (711,   1),\n",
    "        (727,    0), (733,    1), (879,     0), (1154,  1), (1161,  0),\n",
    "        (4347,   1), (4447,   2), (7467,    1), (7521,  0), (8369,  1),\n",
    "        (8426,   0), (9000,   1), (9002,    2), (11021, 1), (12350, 2),\n",
    "        (12351,  1), (12438,  2), (12442,   0), (19893, 2), (19967, 1),\n",
    "        (55203,  2), (63743,  1), (64106,   2), (65039, 1), (65059, 0),\n",
    "        (65131,  2), (65279,  1), (65376,   2), (65500, 1), (65510, 2),\n",
    "        (120831, 1), (262141, 2), (1114109, 1),\n",
    "]\n",
    "\n",
    "\n",
    "def calc_len(string):\n",
    "    def chr_width(o):\n",
    "        global widths\n",
    "        if o == 0xe or o == 0xf:\n",
    "            return 0\n",
    "        for num, wid in widths:\n",
    "            if o <= num:\n",
    "                return wid\n",
    "        return 1\n",
    "    return sum(chr_width(ord(c)) for c in string)\n",
    "\n",
    "\n",
    "def pretty_print(push, title, date, author, link):\n",
    "    pattern = '%3s\\t%s%s%s\\t%s'\n",
    "    padding = ' ' * (50 - calc_len(title))\n",
    "    print(pattern % (push, title, padding, date, author, link))"
   ]
  },
  {
   "cell_type": "code",
   "execution_count": 11,
   "metadata": {},
   "outputs": [],
   "source": [
    "def parse_article_meta(ent):\n",
    "    ''' Step-3 (revised): parse the metadata in article entry '''\n",
    "    # 基本要素都還在\n",
    "    meta = {\n",
    "        'title': ent.find('div.title', first=True).text,\n",
    "        'push': ent.find('div.nrec', first=True).text,\n",
    "        'date': ent.find('div.date', first=True).text\n",
    "    }\n",
    "\n",
    "    try:\n",
    "        # 正常狀況取得資料\n",
    "        meta['author'] = ent.find('div.author', first=True).text\n",
    "        meta['link'] = ent.find('div.title > a', first=True).attrs['href']\n",
    "\n",
    "    except AttributeError:\n",
    "        # 但碰上文章被刪除時，就沒有辦法像原本的方法取得 作者 跟 連結\n",
    "        if '(本文已被刪除)' in meta['title']:\n",
    "            # e.g., \"(本文已被刪除) [haudai]\"\n",
    "            match_author = re.search('\\[(\\w*)\\]', meta['title'])\n",
    "            match_link = re.search('\\[(\\w*)\\]', meta['title']) \n",
    "            if match_author:\n",
    "                meta['author'] = match_author.group(1)\n",
    "            if match_link:\n",
    "                meta['link'] = match_link.group(1)\n",
    "        elif re.search('已被\\w*刪除', meta['title']):\n",
    "            # e.g., \"(已被cappa刪除) <edisonchu> op\"\n",
    "            match_author = re.search('\\<(\\w*)\\>', meta['title'])\n",
    "            if match_author:\n",
    "                meta['author'] = match_author.group(1)\n",
    "    return meta\n",
    "\n",
    "    # 最終仍回傳統一的 dict() 形式 paired data\n",
    "    #return meta"
   ]
  },
  {
   "cell_type": "code",
   "execution_count": 12,
   "metadata": {},
   "outputs": [],
   "source": [
    "from requests_html import HTML\n",
    "\n",
    "def parse_article_entries(doc):\n",
    "    html = HTML(html=doc)\n",
    "    post_entries = html.find('div.r-ent')\n",
    "    return post_entries"
   ]
  },
  {
   "cell_type": "code",
   "execution_count": 13,
   "metadata": {},
   "outputs": [
    {
     "ename": "TypeError",
     "evalue": "pretty_print() missing 1 required positional argument: 'link'",
     "output_type": "error",
     "traceback": [
      "\u001b[0;31m---------------------------------------------------------------------------\u001b[0m",
      "\u001b[0;31mTypeError\u001b[0m                                 Traceback (most recent call last)",
      "\u001b[0;32m<ipython-input-13-db77ee214230>\u001b[0m in \u001b[0;36m<module>\u001b[0;34m()\u001b[0m\n\u001b[1;32m      5\u001b[0m \u001b[0;32mfor\u001b[0m \u001b[0mentry\u001b[0m \u001b[0;32min\u001b[0m \u001b[0mpost_entries\u001b[0m\u001b[0;34m:\u001b[0m\u001b[0;34m\u001b[0m\u001b[0m\n\u001b[1;32m      6\u001b[0m     \u001b[0mmeta\u001b[0m \u001b[0;34m=\u001b[0m \u001b[0mparse_article_meta\u001b[0m\u001b[0;34m(\u001b[0m\u001b[0mentry\u001b[0m\u001b[0;34m)\u001b[0m\u001b[0;34m\u001b[0m\u001b[0m\n\u001b[0;32m----> 7\u001b[0;31m     \u001b[0mpretty_print\u001b[0m\u001b[0;34m(\u001b[0m\u001b[0mmeta\u001b[0m\u001b[0;34m[\u001b[0m\u001b[0;34m'push'\u001b[0m\u001b[0;34m]\u001b[0m\u001b[0;34m,\u001b[0m \u001b[0mmeta\u001b[0m\u001b[0;34m[\u001b[0m\u001b[0;34m'title'\u001b[0m\u001b[0;34m]\u001b[0m\u001b[0;34m,\u001b[0m \u001b[0mmeta\u001b[0m\u001b[0;34m[\u001b[0m\u001b[0;34m'date'\u001b[0m\u001b[0;34m]\u001b[0m\u001b[0;34m,\u001b[0m \u001b[0mmeta\u001b[0m\u001b[0;34m[\u001b[0m\u001b[0;34m'author'\u001b[0m\u001b[0;34m]\u001b[0m\u001b[0;34m)\u001b[0m\u001b[0;34m\u001b[0m\u001b[0m\n\u001b[0m\u001b[1;32m      8\u001b[0m \u001b[0;34m\u001b[0m\u001b[0m\n\u001b[1;32m      9\u001b[0m     \u001b[0;31m# pretty_print(meta['push'], meta['title'], meta['date'], meta['author'])  # for below results\u001b[0m\u001b[0;34m\u001b[0m\u001b[0;34m\u001b[0m\u001b[0m\n",
      "\u001b[0;31mTypeError\u001b[0m: pretty_print() missing 1 required positional argument: 'link'"
     ]
    }
   ],
   "source": [
    "url = 'https://www.ptt.cc/bbs/Gossiping/index.html'\n",
    "resp = fetch(url)  # step-1\n",
    "post_entries = parse_article_entries(resp.text)  # step-2\n",
    "\n",
    "for entry in post_entries:\n",
    "    meta = parse_article_meta(entry)\n",
    "    pretty_print(meta['push'], meta['title'], meta['date'], meta['author'])  \n",
    "\n",
    "    # pretty_print(meta['push'], meta['title'], meta['date'], meta['author'])  # for below results"
   ]
  },
  {
   "cell_type": "code",
   "execution_count": 16,
   "metadata": {},
   "outputs": [
    {
     "ename": "NameError",
     "evalue": "name 'metadata' is not defined",
     "output_type": "error",
     "traceback": [
      "\u001b[0;31m---------------------------------------------------------------------------\u001b[0m",
      "\u001b[0;31mNameError\u001b[0m                                 Traceback (most recent call last)",
      "\u001b[0;32m<ipython-input-16-5dc977434df3>\u001b[0m in \u001b[0;36m<module>\u001b[0;34m()\u001b[0m\n\u001b[1;32m     31\u001b[0m \u001b[0;34m\u001b[0m\u001b[0m\n\u001b[1;32m     32\u001b[0m \u001b[0;31m#metadata = get_paged_meta(start_url, num_pages=10)\u001b[0m\u001b[0;34m\u001b[0m\u001b[0;34m\u001b[0m\u001b[0m\n\u001b[0;32m---> 33\u001b[0;31m \u001b[0;32mfor\u001b[0m \u001b[0mmeta\u001b[0m \u001b[0;32min\u001b[0m \u001b[0mmetadata\u001b[0m\u001b[0;34m:\u001b[0m\u001b[0;34m\u001b[0m\u001b[0m\n\u001b[0m\u001b[1;32m     34\u001b[0m     \u001b[0mpretty_print\u001b[0m\u001b[0;34m(\u001b[0m\u001b[0mmeta\u001b[0m\u001b[0;34m[\u001b[0m\u001b[0;34m'push'\u001b[0m\u001b[0;34m]\u001b[0m\u001b[0;34m,\u001b[0m \u001b[0mmeta\u001b[0m\u001b[0;34m[\u001b[0m\u001b[0;34m'title'\u001b[0m\u001b[0;34m]\u001b[0m\u001b[0;34m,\u001b[0m \u001b[0mmeta\u001b[0m\u001b[0;34m[\u001b[0m\u001b[0;34m'date'\u001b[0m\u001b[0;34m]\u001b[0m\u001b[0;34m,\u001b[0m \u001b[0mmeta\u001b[0m\u001b[0;34m[\u001b[0m\u001b[0;34m'author'\u001b[0m\u001b[0;34m]\u001b[0m\u001b[0;34m,\u001b[0m\u001b[0mmeta\u001b[0m\u001b[0;34m[\u001b[0m\u001b[0;34m'link'\u001b[0m\u001b[0;34m]\u001b[0m\u001b[0;34m)\u001b[0m\u001b[0;34m\u001b[0m\u001b[0m\n",
      "\u001b[0;31mNameError\u001b[0m: name 'metadata' is not defined"
     ]
    }
   ],
   "source": [
    "import re\n",
    "import urllib.parse\n",
    "## from utils import pretty_print\n",
    "\n",
    "def get_metadata_from(url):\n",
    "\n",
    "    def parse_next_link(doc):\n",
    "        domain = 'https://www.ptt.cc/' \n",
    "        html = HTML(html=doc)\n",
    "        controls = html.find('.action-bar a.btn.wide')\n",
    "        link = controls[1].attrs.get('href')\n",
    "        return urllib.parse.urljoin(domain, link)\n",
    "\n",
    "    resp = fetch(url)\n",
    "    post_entries = parse_article_entries(resp.text)\n",
    "    next_link = parse_next_link(resp.text)\n",
    "\n",
    "    metadata = [parse_article_meta(entry) for entry in post_entries]\n",
    "    return metadata, next_link\n",
    "\n",
    "def get_paged_meta(url, num_pages):\n",
    "    collected_meta = []\n",
    "    domain = 'https://www.ptt.cc/'\n",
    "    \n",
    "    for _ in range(num_pages):\n",
    "        posts, link = get_metadata_from(url)\n",
    "        collected_meta += posts\n",
    "\n",
    "        url = urllib.parse.urljoin(domain, link)\n",
    "    return collected_meta\n",
    "\n",
    "#metadata = get_paged_meta(start_url, num_pages=10)\n",
    "for meta in metadata:\n",
    "    pretty_print(meta['push'], meta['title'], meta['date'], meta['author'],meta['link'])"
   ]
  },
  {
   "cell_type": "code",
   "execution_count": 17,
   "metadata": {},
   "outputs": [],
   "source": [
    "def get_posts(metadata):\n",
    "    # 將所有文章連結收集並串接成完整 URL\n",
    "    post_links = [\n",
    "        urllib.parse.urljoin(domain, meta['link'])\n",
    "        for meta in metadata if 'link' in meta\n",
    "    ]\n",
    "    with Pool(processes=3) as pool:\n",
    "        contents = pool.map(fetch, post_links)\n",
    "        return contents\n",
    "    "
   ]
  },
  {
   "cell_type": "code",
   "execution_count": 18,
   "metadata": {},
   "outputs": [],
   "source": [
    "import time\n",
    "from multiprocessing import Pool\n",
    "\n",
    "domain = 'https://www.ptt.cc/'"
   ]
  },
  {
   "cell_type": "code",
   "execution_count": 19,
   "metadata": {},
   "outputs": [],
   "source": [
    "def parse_article_content(doc,href):\n",
    "\n",
    "    if '.html' in (href):\n",
    "        html = HTML(html=doc)\n",
    "        post_content = html.find('#main-content', first=True).text\n",
    "        soup = BeautifulSoup(doc, 'html.parser')\n",
    "        main_content = soup.find(id=\"main-content\")\n",
    "        PTT_URL = 'https://www.ptt.cc'\n",
    "        # ex. link would be <a href=\"/bbs/PublicServan/M.1127742013.A.240.html\">Re: [問題] 職等</a>\n",
    "        link = PTT_URL + href\n",
    "        article_id = re.sub('\\.html', '', href.split('/')[-1])        \n",
    "        pushes = main_content.find_all('div', class_='push')\n",
    "\n",
    "        for push in pushes:\n",
    "            push.extract() ## 移除指定該變數\n",
    "        filtered = [ v for v in main_content.stripped_strings if v[0] not in [u'※', u'◆'] and v[:2] not in [u'--'] ]\n",
    "        expr = re.compile(u(r'[^\\u4e00-\\u9fa5\\u3002\\uff1b\\uff0c\\uff1a\\u201c\\u201d\\uff08\\uff09\\u3001\\uff1f\\u300a\\u300b\\s\\w:/-_.?~%()]'))\n",
    "        for i in range(len(filtered)):\n",
    "            filtered[i] = re.sub(expr, '', filtered[i])\n",
    "\n",
    "        filtered = [_f for _f in filtered if _f]  # remove empty strings\n",
    "        filtered = [x for x in filtered if article_id not in x]  # remove last line containing the url of the article\n",
    "        content = ' '.join(filtered)\n",
    "        content = re.sub(r'(\\s)+', ' ', content)\n",
    "        meta = {\n",
    "            'content':content,\n",
    "            'article_id':article_id\n",
    "        }\n",
    "        return meta\n",
    "    else:\n",
    "        meta = {\n",
    "            'content':'被刪除',\n",
    "            'article_id': '無'            \n",
    "        }\n",
    "        return meta"
   ]
  },
  {
   "cell_type": "code",
   "execution_count": 73,
   "metadata": {},
   "outputs": [
    {
     "name": "stderr",
     "output_type": "stream",
     "text": [
      "Process ForkPoolWorker-14:\n",
      "Process ForkPoolWorker-15:\n",
      "Process ForkPoolWorker-13:\n",
      "Traceback (most recent call last):\n",
      "Traceback (most recent call last):\n",
      "Traceback (most recent call last):\n",
      "  File \"/Users/aaron/Documents/anaconda3/envs/crawler/lib/python3.6/multiprocessing/process.py\", line 258, in _bootstrap\n",
      "    self.run()\n",
      "  File \"/Users/aaron/Documents/anaconda3/envs/crawler/lib/python3.6/multiprocessing/process.py\", line 258, in _bootstrap\n",
      "    self.run()\n",
      "  File \"/Users/aaron/Documents/anaconda3/envs/crawler/lib/python3.6/multiprocessing/process.py\", line 258, in _bootstrap\n",
      "    self.run()\n",
      "  File \"/Users/aaron/Documents/anaconda3/envs/crawler/lib/python3.6/multiprocessing/process.py\", line 93, in run\n",
      "    self._target(*self._args, **self._kwargs)\n",
      "  File \"/Users/aaron/Documents/anaconda3/envs/crawler/lib/python3.6/multiprocessing/process.py\", line 93, in run\n",
      "    self._target(*self._args, **self._kwargs)\n"
     ]
    },
    {
     "ename": "KeyboardInterrupt",
     "evalue": "",
     "output_type": "error",
     "traceback": [
      "\u001b[0;31m---------------------------------------------------------------------------\u001b[0m",
      "\u001b[0;31mKeyboardInterrupt\u001b[0m                         Traceback (most recent call last)",
      "\u001b[0;32m<ipython-input-73-2c3fb6436a75>\u001b[0m in \u001b[0;36m<module>\u001b[0;34m()\u001b[0m\n\u001b[1;32m      5\u001b[0m \u001b[0;34m\u001b[0m\u001b[0m\n\u001b[1;32m      6\u001b[0m     \u001b[0mmetadata\u001b[0m \u001b[0;34m=\u001b[0m \u001b[0mget_paged_meta\u001b[0m\u001b[0;34m(\u001b[0m\u001b[0mstart_url\u001b[0m\u001b[0;34m,\u001b[0m \u001b[0mnum_pages\u001b[0m\u001b[0;34m=\u001b[0m\u001b[0mpages\u001b[0m\u001b[0;34m)\u001b[0m\u001b[0;34m\u001b[0m\u001b[0m\n\u001b[0;32m----> 7\u001b[0;31m     \u001b[0mresps\u001b[0m \u001b[0;34m=\u001b[0m \u001b[0mget_posts\u001b[0m\u001b[0;34m(\u001b[0m\u001b[0mmetadata\u001b[0m\u001b[0;34m)\u001b[0m\u001b[0;34m\u001b[0m\u001b[0m\n\u001b[0m\u001b[1;32m      8\u001b[0m \u001b[0;34m\u001b[0m\u001b[0m\n\u001b[1;32m      9\u001b[0m     \u001b[0mcontents\u001b[0m \u001b[0;34m=\u001b[0m \u001b[0;34m[\u001b[0m\u001b[0mparse_article_content\u001b[0m\u001b[0;34m(\u001b[0m\u001b[0mcontent\u001b[0m\u001b[0;34m.\u001b[0m\u001b[0mtext\u001b[0m\u001b[0;34m,\u001b[0m \u001b[0mmetadata\u001b[0m\u001b[0;34m[\u001b[0m\u001b[0;34m'link'\u001b[0m\u001b[0;34m]\u001b[0m\u001b[0;34m)\u001b[0m \u001b[0;32mfor\u001b[0m \u001b[0mcontent\u001b[0m\u001b[0;34m,\u001b[0m \u001b[0mmetadata\u001b[0m \u001b[0;32min\u001b[0m \u001b[0mzip\u001b[0m\u001b[0;34m(\u001b[0m\u001b[0mresps\u001b[0m\u001b[0;34m,\u001b[0m \u001b[0mmetadata\u001b[0m\u001b[0;34m)\u001b[0m\u001b[0;34m]\u001b[0m\u001b[0;34m\u001b[0m\u001b[0m\n",
      "\u001b[0;32m<ipython-input-17-8fc24c128750>\u001b[0m in \u001b[0;36mget_posts\u001b[0;34m(metadata)\u001b[0m\n\u001b[1;32m      6\u001b[0m     ]\n\u001b[1;32m      7\u001b[0m     \u001b[0;32mwith\u001b[0m \u001b[0mPool\u001b[0m\u001b[0;34m(\u001b[0m\u001b[0mprocesses\u001b[0m\u001b[0;34m=\u001b[0m\u001b[0;36m3\u001b[0m\u001b[0;34m)\u001b[0m \u001b[0;32mas\u001b[0m \u001b[0mpool\u001b[0m\u001b[0;34m:\u001b[0m\u001b[0;34m\u001b[0m\u001b[0m\n\u001b[0;32m----> 8\u001b[0;31m         \u001b[0mcontents\u001b[0m \u001b[0;34m=\u001b[0m \u001b[0mpool\u001b[0m\u001b[0;34m.\u001b[0m\u001b[0mmap\u001b[0m\u001b[0;34m(\u001b[0m\u001b[0mfetch\u001b[0m\u001b[0;34m,\u001b[0m \u001b[0mpost_links\u001b[0m\u001b[0;34m)\u001b[0m\u001b[0;34m\u001b[0m\u001b[0m\n\u001b[0m\u001b[1;32m      9\u001b[0m         \u001b[0;32mreturn\u001b[0m \u001b[0mcontents\u001b[0m\u001b[0;34m\u001b[0m\u001b[0m\n\u001b[1;32m     10\u001b[0m \u001b[0;34m\u001b[0m\u001b[0m\n",
      "\u001b[0;32m~/Documents/anaconda3/envs/crawler/lib/python3.6/multiprocessing/pool.py\u001b[0m in \u001b[0;36mmap\u001b[0;34m(self, func, iterable, chunksize)\u001b[0m\n\u001b[1;32m    264\u001b[0m         \u001b[0;32min\u001b[0m \u001b[0ma\u001b[0m \u001b[0mlist\u001b[0m \u001b[0mthat\u001b[0m \u001b[0;32mis\u001b[0m \u001b[0mreturned\u001b[0m\u001b[0;34m.\u001b[0m\u001b[0;34m\u001b[0m\u001b[0m\n\u001b[1;32m    265\u001b[0m         '''\n\u001b[0;32m--> 266\u001b[0;31m         \u001b[0;32mreturn\u001b[0m \u001b[0mself\u001b[0m\u001b[0;34m.\u001b[0m\u001b[0m_map_async\u001b[0m\u001b[0;34m(\u001b[0m\u001b[0mfunc\u001b[0m\u001b[0;34m,\u001b[0m \u001b[0miterable\u001b[0m\u001b[0;34m,\u001b[0m \u001b[0mmapstar\u001b[0m\u001b[0;34m,\u001b[0m \u001b[0mchunksize\u001b[0m\u001b[0;34m)\u001b[0m\u001b[0;34m.\u001b[0m\u001b[0mget\u001b[0m\u001b[0;34m(\u001b[0m\u001b[0;34m)\u001b[0m\u001b[0;34m\u001b[0m\u001b[0m\n\u001b[0m\u001b[1;32m    267\u001b[0m \u001b[0;34m\u001b[0m\u001b[0m\n\u001b[1;32m    268\u001b[0m     \u001b[0;32mdef\u001b[0m \u001b[0mstarmap\u001b[0m\u001b[0;34m(\u001b[0m\u001b[0mself\u001b[0m\u001b[0;34m,\u001b[0m \u001b[0mfunc\u001b[0m\u001b[0;34m,\u001b[0m \u001b[0miterable\u001b[0m\u001b[0;34m,\u001b[0m \u001b[0mchunksize\u001b[0m\u001b[0;34m=\u001b[0m\u001b[0;32mNone\u001b[0m\u001b[0;34m)\u001b[0m\u001b[0;34m:\u001b[0m\u001b[0;34m\u001b[0m\u001b[0m\n",
      "\u001b[0;32m~/Documents/anaconda3/envs/crawler/lib/python3.6/multiprocessing/pool.py\u001b[0m in \u001b[0;36mget\u001b[0;34m(self, timeout)\u001b[0m\n\u001b[1;32m    636\u001b[0m \u001b[0;34m\u001b[0m\u001b[0m\n\u001b[1;32m    637\u001b[0m     \u001b[0;32mdef\u001b[0m \u001b[0mget\u001b[0m\u001b[0;34m(\u001b[0m\u001b[0mself\u001b[0m\u001b[0;34m,\u001b[0m \u001b[0mtimeout\u001b[0m\u001b[0;34m=\u001b[0m\u001b[0;32mNone\u001b[0m\u001b[0;34m)\u001b[0m\u001b[0;34m:\u001b[0m\u001b[0;34m\u001b[0m\u001b[0m\n\u001b[0;32m--> 638\u001b[0;31m         \u001b[0mself\u001b[0m\u001b[0;34m.\u001b[0m\u001b[0mwait\u001b[0m\u001b[0;34m(\u001b[0m\u001b[0mtimeout\u001b[0m\u001b[0;34m)\u001b[0m\u001b[0;34m\u001b[0m\u001b[0m\n\u001b[0m\u001b[1;32m    639\u001b[0m         \u001b[0;32mif\u001b[0m \u001b[0;32mnot\u001b[0m \u001b[0mself\u001b[0m\u001b[0;34m.\u001b[0m\u001b[0mready\u001b[0m\u001b[0;34m(\u001b[0m\u001b[0;34m)\u001b[0m\u001b[0;34m:\u001b[0m\u001b[0;34m\u001b[0m\u001b[0m\n\u001b[1;32m    640\u001b[0m             \u001b[0;32mraise\u001b[0m \u001b[0mTimeoutError\u001b[0m\u001b[0;34m\u001b[0m\u001b[0m\n",
      "\u001b[0;32m~/Documents/anaconda3/envs/crawler/lib/python3.6/multiprocessing/pool.py\u001b[0m in \u001b[0;36mwait\u001b[0;34m(self, timeout)\u001b[0m\n\u001b[1;32m    633\u001b[0m \u001b[0;34m\u001b[0m\u001b[0m\n\u001b[1;32m    634\u001b[0m     \u001b[0;32mdef\u001b[0m \u001b[0mwait\u001b[0m\u001b[0;34m(\u001b[0m\u001b[0mself\u001b[0m\u001b[0;34m,\u001b[0m \u001b[0mtimeout\u001b[0m\u001b[0;34m=\u001b[0m\u001b[0;32mNone\u001b[0m\u001b[0;34m)\u001b[0m\u001b[0;34m:\u001b[0m\u001b[0;34m\u001b[0m\u001b[0m\n\u001b[0;32m--> 635\u001b[0;31m         \u001b[0mself\u001b[0m\u001b[0;34m.\u001b[0m\u001b[0m_event\u001b[0m\u001b[0;34m.\u001b[0m\u001b[0mwait\u001b[0m\u001b[0;34m(\u001b[0m\u001b[0mtimeout\u001b[0m\u001b[0;34m)\u001b[0m\u001b[0;34m\u001b[0m\u001b[0m\n\u001b[0m\u001b[1;32m    636\u001b[0m \u001b[0;34m\u001b[0m\u001b[0m\n\u001b[1;32m    637\u001b[0m     \u001b[0;32mdef\u001b[0m \u001b[0mget\u001b[0m\u001b[0;34m(\u001b[0m\u001b[0mself\u001b[0m\u001b[0;34m,\u001b[0m \u001b[0mtimeout\u001b[0m\u001b[0;34m=\u001b[0m\u001b[0;32mNone\u001b[0m\u001b[0;34m)\u001b[0m\u001b[0;34m:\u001b[0m\u001b[0;34m\u001b[0m\u001b[0m\n",
      "\u001b[0;32m~/Documents/anaconda3/envs/crawler/lib/python3.6/threading.py\u001b[0m in \u001b[0;36mwait\u001b[0;34m(self, timeout)\u001b[0m\n\u001b[1;32m    549\u001b[0m             \u001b[0msignaled\u001b[0m \u001b[0;34m=\u001b[0m \u001b[0mself\u001b[0m\u001b[0;34m.\u001b[0m\u001b[0m_flag\u001b[0m\u001b[0;34m\u001b[0m\u001b[0m\n\u001b[1;32m    550\u001b[0m             \u001b[0;32mif\u001b[0m \u001b[0;32mnot\u001b[0m \u001b[0msignaled\u001b[0m\u001b[0;34m:\u001b[0m\u001b[0;34m\u001b[0m\u001b[0m\n\u001b[0;32m--> 551\u001b[0;31m                 \u001b[0msignaled\u001b[0m \u001b[0;34m=\u001b[0m \u001b[0mself\u001b[0m\u001b[0;34m.\u001b[0m\u001b[0m_cond\u001b[0m\u001b[0;34m.\u001b[0m\u001b[0mwait\u001b[0m\u001b[0;34m(\u001b[0m\u001b[0mtimeout\u001b[0m\u001b[0;34m)\u001b[0m\u001b[0;34m\u001b[0m\u001b[0m\n\u001b[0m\u001b[1;32m    552\u001b[0m             \u001b[0;32mreturn\u001b[0m \u001b[0msignaled\u001b[0m\u001b[0;34m\u001b[0m\u001b[0m\n\u001b[1;32m    553\u001b[0m \u001b[0;34m\u001b[0m\u001b[0m\n",
      "\u001b[0;32m~/Documents/anaconda3/envs/crawler/lib/python3.6/threading.py\u001b[0m in \u001b[0;36mwait\u001b[0;34m(self, timeout)\u001b[0m\n\u001b[1;32m    293\u001b[0m         \u001b[0;32mtry\u001b[0m\u001b[0;34m:\u001b[0m    \u001b[0;31m# restore state no matter what (e.g., KeyboardInterrupt)\u001b[0m\u001b[0;34m\u001b[0m\u001b[0m\n\u001b[1;32m    294\u001b[0m             \u001b[0;32mif\u001b[0m \u001b[0mtimeout\u001b[0m \u001b[0;32mis\u001b[0m \u001b[0;32mNone\u001b[0m\u001b[0;34m:\u001b[0m\u001b[0;34m\u001b[0m\u001b[0m\n\u001b[0;32m--> 295\u001b[0;31m                 \u001b[0mwaiter\u001b[0m\u001b[0;34m.\u001b[0m\u001b[0macquire\u001b[0m\u001b[0;34m(\u001b[0m\u001b[0;34m)\u001b[0m\u001b[0;34m\u001b[0m\u001b[0m\n\u001b[0m\u001b[1;32m    296\u001b[0m                 \u001b[0mgotit\u001b[0m \u001b[0;34m=\u001b[0m \u001b[0;32mTrue\u001b[0m\u001b[0;34m\u001b[0m\u001b[0m\n\u001b[1;32m    297\u001b[0m             \u001b[0;32melse\u001b[0m\u001b[0;34m:\u001b[0m\u001b[0;34m\u001b[0m\u001b[0m\n",
      "\u001b[0;31mKeyboardInterrupt\u001b[0m: "
     ]
    }
   ],
   "source": [
    "if __name__ == '__main__':\n",
    "    pages = 100\n",
    "    start_url = 'https://www.ptt.cc/bbs/movie/index.html'\n",
    "    start = time.time()\n",
    "\n",
    "    metadata = get_paged_meta(start_url, num_pages=pages)\n",
    "    resps = get_posts(metadata)\n",
    "\n",
    "    contents = [parse_article_content(content.text, metadata['link']) for content, metadata in zip(resps, metadata)]\n",
    "\n",
    "    print('花費: %f 秒' % (time.time() - start))\n",
    "\n",
    "    print('共%d項結果：' % len(resps))\n",
    "    for post, resps, text in zip(metadata, resps,contents):\n",
    "        print('{0} {1: <15} {2}, 網頁內容共 {3} 字, {4}'.format(\n",
    "            post['date'], post['author'], post['title'], len(resps.text), text['content']))"
   ]
  },
  {
   "cell_type": "code",
   "execution_count": 22,
   "metadata": {},
   "outputs": [
    {
     "data": {
      "text/plain": [
       "{'content': '作者 tryzji (奇蹟式.) 看板 movie 標題 [情報] iTunes多部90特價延長 / 新增2部 時間 Mon Sep 3 15:07:39 2018 剛剛看到上週iTunes90元特價的片單，好像因為週末價格設定出問題，活動再延長兩天， 再增加兩部片單特價 漫漫回家路 再見瓦城 前者奧斯卡入圍多項，很愛魯妮瑪拉跟劇情感動大推後者入圍多項金馬獎，聽說也是很 不錯看 目前總共12部片子，都在90元起特價中~有興趣的影迷趕緊出手了 :D 以下節錄自原貼文特價連結 : https://goo.gl/XQPpjh https://goo.gl/H5vSqs 90 摩天樓 : https://goo.gl/hvGLw2 90 倒帶人生 : https://goo.gl/TLwpaH 90 驗屍官 : https://goo.gl/dqmpeZ 90 信長協奏曲 : https://goo.gl/3pSkbu 90 梭哈人生 : https://goo.gl/4dKcu4 90 深夜食堂 : https://goo.gl/3N8YdQ 90 北京遇上西雅圖之不二情書 : https://goo.gl/XL6Tu6 150 千年女優 : https://goo.gl/75GfWQ 150 新天堂樂園 : https://goo.gl/9xrezR 150 再見瓦城 : https://goo.gl/4a1PLB 150 漫漫回家路 : https://goo.gl/wWbhzW',\n",
       " 'article_id': 'M.1535958469.A.025'}"
      ]
     },
     "execution_count": 22,
     "metadata": {},
     "output_type": "execute_result"
    }
   ],
   "source": [
    "contents[0]"
   ]
  },
  {
   "cell_type": "code",
   "execution_count": 15,
   "metadata": {},
   "outputs": [
    {
     "ename": "NameError",
     "evalue": "name 'metadata' is not defined",
     "output_type": "error",
     "traceback": [
      "\u001b[0;31m---------------------------------------------------------------------------\u001b[0m",
      "\u001b[0;31mNameError\u001b[0m                                 Traceback (most recent call last)",
      "\u001b[0;32m<ipython-input-15-b02f0ddd17f8>\u001b[0m in \u001b[0;36m<module>\u001b[0;34m()\u001b[0m\n\u001b[0;32m----> 1\u001b[0;31m \u001b[0mzip\u001b[0m\u001b[0;34m(\u001b[0m\u001b[0mmetadata\u001b[0m \u001b[0;34m,\u001b[0m \u001b[0mcontents\u001b[0m\u001b[0;34m)\u001b[0m\u001b[0;34m\u001b[0m\u001b[0m\n\u001b[0m",
      "\u001b[0;31mNameError\u001b[0m: name 'metadata' is not defined"
     ]
    }
   ],
   "source": [
    "zip(metadata , contents)"
   ]
  },
  {
   "cell_type": "code",
   "execution_count": 26,
   "metadata": {},
   "outputs": [
    {
     "data": {
      "text/plain": [
       "{'title': '[選片] 命帶追逐 引爆點 小偷家族',\n",
       " 'push': '5',\n",
       " 'date': '9/03',\n",
       " 'author': 'stepaside',\n",
       " 'link': '/bbs/movie/M.1535958298.A.313.html',\n",
       " 'content': '作者 stepaside (紐牛) 看板 movie 標題 [選片] 命帶追逐 引爆點 小偷家族 時間 Mon Sep 3 15:04:56 2018 手機排版，跪求不要噓我嗚嗚 三部都是近期內有些心動的片 不知道大家比較推哪一部呢？ 身邊較多人看過小偷家族， 似乎比較沉重呢。 命帶追逐預告片看起來ㄎㄧㄤㄎㄧㄤ的， 不曉得會不會其實內容不有趣。 引爆點是衝著吳慷仁的演技， 可是版上滿多負評的。 休假想出門看電影， 請求各位推薦了~~~~ 感謝感謝 Sent from JPTT on my Samsung SMJ730GM. ',\n",
       " 'article_id': 'M.1535958298.A.313'}"
      ]
     },
     "execution_count": 26,
     "metadata": {},
     "output_type": "execute_result"
    }
   ],
   "source": [
    "z"
   ]
  },
  {
   "cell_type": "code",
   "execution_count": 122,
   "metadata": {},
   "outputs": [],
   "source": [
    "filename = './crawl_file/'+ test['article_id']+'.json'\n",
    "with open(filename, 'w') as outfile:\n",
    "    json.dump(test, outfile, ensure_ascii=False)"
   ]
  },
  {
   "cell_type": "markdown",
   "metadata": {},
   "source": [
    "### 匯入MongoDB"
   ]
  },
  {
   "cell_type": "code",
   "execution_count": 50,
   "metadata": {},
   "outputs": [],
   "source": [
    "import pymongo\n",
    "from pymongo import MongoClient\n"
   ]
  },
  {
   "cell_type": "code",
   "execution_count": 51,
   "metadata": {},
   "outputs": [],
   "source": [
    "client = pymongo.MongoClient(host='localhost', port=27017)"
   ]
  },
  {
   "cell_type": "code",
   "execution_count": 52,
   "metadata": {},
   "outputs": [],
   "source": [
    "db = client.ptt"
   ]
  },
  {
   "cell_type": "code",
   "execution_count": 53,
   "metadata": {},
   "outputs": [],
   "source": [
    "collection = db['article']"
   ]
  },
  {
   "cell_type": "code",
   "execution_count": 54,
   "metadata": {},
   "outputs": [],
   "source": [
    "student = {\n",
    "    'id': '20170101',\n",
    "    'name': 'Jordan',\n",
    "    'age': 20,\n",
    "    'gender': 'male'\n",
    "}"
   ]
  },
  {
   "cell_type": "code",
   "execution_count": 55,
   "metadata": {},
   "outputs": [
    {
     "data": {
      "text/plain": [
       "dict"
      ]
     },
     "execution_count": 55,
     "metadata": {},
     "output_type": "execute_result"
    }
   ],
   "source": [
    "type(student)"
   ]
  },
  {
   "cell_type": "code",
   "execution_count": 56,
   "metadata": {},
   "outputs": [
    {
     "data": {
      "text/plain": [
       "dict"
      ]
     },
     "execution_count": 56,
     "metadata": {},
     "output_type": "execute_result"
    }
   ],
   "source": [
    "type(z)"
   ]
  },
  {
   "cell_type": "code",
   "execution_count": 57,
   "metadata": {},
   "outputs": [
    {
     "name": "stderr",
     "output_type": "stream",
     "text": [
      "/Users/aaron/Documents/anaconda3/envs/crawler/lib/python3.6/site-packages/ipykernel_launcher.py:1: DeprecationWarning: insert is deprecated. Use insert_one or insert_many instead.\n",
      "  \"\"\"Entry point for launching an IPython kernel.\n"
     ]
    },
    {
     "ename": "DuplicateKeyError",
     "evalue": "E11000 duplicate key error collection: ptt.article index: _id_ dup key: { : ObjectId('5b8cedb0360a3e15d49824d9') }",
     "output_type": "error",
     "traceback": [
      "\u001b[0;31m---------------------------------------------------------------------------\u001b[0m",
      "\u001b[0;31mBulkWriteError\u001b[0m                            Traceback (most recent call last)",
      "\u001b[0;32m~/Documents/anaconda3/envs/crawler/lib/python3.6/site-packages/pymongo/collection.py\u001b[0m in \u001b[0;36m_insert\u001b[0;34m(self, docs, ordered, check_keys, manipulate, write_concern, op_id, bypass_doc_val, session)\u001b[0m\n\u001b[1;32m    640\u001b[0m         \u001b[0;32mtry\u001b[0m\u001b[0;34m:\u001b[0m\u001b[0;34m\u001b[0m\u001b[0m\n\u001b[0;32m--> 641\u001b[0;31m             \u001b[0mblk\u001b[0m\u001b[0;34m.\u001b[0m\u001b[0mexecute\u001b[0m\u001b[0;34m(\u001b[0m\u001b[0mwrite_concern\u001b[0m\u001b[0;34m,\u001b[0m \u001b[0msession\u001b[0m\u001b[0;34m=\u001b[0m\u001b[0msession\u001b[0m\u001b[0;34m)\u001b[0m\u001b[0;34m\u001b[0m\u001b[0m\n\u001b[0m\u001b[1;32m    642\u001b[0m         \u001b[0;32mexcept\u001b[0m \u001b[0mBulkWriteError\u001b[0m \u001b[0;32mas\u001b[0m \u001b[0mbwe\u001b[0m\u001b[0;34m:\u001b[0m\u001b[0;34m\u001b[0m\u001b[0m\n",
      "\u001b[0;32m~/Documents/anaconda3/envs/crawler/lib/python3.6/site-packages/pymongo/bulk.py\u001b[0m in \u001b[0;36mexecute\u001b[0;34m(self, write_concern, session)\u001b[0m\n\u001b[1;32m    512\u001b[0m         \u001b[0;32melse\u001b[0m\u001b[0;34m:\u001b[0m\u001b[0;34m\u001b[0m\u001b[0m\n\u001b[0;32m--> 513\u001b[0;31m             \u001b[0;32mreturn\u001b[0m \u001b[0mself\u001b[0m\u001b[0;34m.\u001b[0m\u001b[0mexecute_command\u001b[0m\u001b[0;34m(\u001b[0m\u001b[0mgenerator\u001b[0m\u001b[0;34m,\u001b[0m \u001b[0mwrite_concern\u001b[0m\u001b[0;34m,\u001b[0m \u001b[0msession\u001b[0m\u001b[0;34m)\u001b[0m\u001b[0;34m\u001b[0m\u001b[0m\n\u001b[0m\u001b[1;32m    514\u001b[0m \u001b[0;34m\u001b[0m\u001b[0m\n",
      "\u001b[0;32m~/Documents/anaconda3/envs/crawler/lib/python3.6/site-packages/pymongo/bulk.py\u001b[0m in \u001b[0;36mexecute_command\u001b[0;34m(self, generator, write_concern, session)\u001b[0m\n\u001b[1;32m    340\u001b[0m         \u001b[0;32mif\u001b[0m \u001b[0mfull_result\u001b[0m\u001b[0;34m[\u001b[0m\u001b[0;34m\"writeErrors\"\u001b[0m\u001b[0;34m]\u001b[0m \u001b[0;32mor\u001b[0m \u001b[0mfull_result\u001b[0m\u001b[0;34m[\u001b[0m\u001b[0;34m\"writeConcernErrors\"\u001b[0m\u001b[0;34m]\u001b[0m\u001b[0;34m:\u001b[0m\u001b[0;34m\u001b[0m\u001b[0m\n\u001b[0;32m--> 341\u001b[0;31m             \u001b[0m_raise_bulk_write_error\u001b[0m\u001b[0;34m(\u001b[0m\u001b[0mfull_result\u001b[0m\u001b[0;34m)\u001b[0m\u001b[0;34m\u001b[0m\u001b[0m\n\u001b[0m\u001b[1;32m    342\u001b[0m         \u001b[0;32mreturn\u001b[0m \u001b[0mfull_result\u001b[0m\u001b[0;34m\u001b[0m\u001b[0m\n",
      "\u001b[0;32m~/Documents/anaconda3/envs/crawler/lib/python3.6/site-packages/pymongo/bulk.py\u001b[0m in \u001b[0;36m_raise_bulk_write_error\u001b[0;34m(full_result)\u001b[0m\n\u001b[1;32m    139\u001b[0m             key=lambda error: error[\"index\"])\n\u001b[0;32m--> 140\u001b[0;31m     \u001b[0;32mraise\u001b[0m \u001b[0mBulkWriteError\u001b[0m\u001b[0;34m(\u001b[0m\u001b[0mfull_result\u001b[0m\u001b[0;34m)\u001b[0m\u001b[0;34m\u001b[0m\u001b[0m\n\u001b[0m\u001b[1;32m    141\u001b[0m \u001b[0;34m\u001b[0m\u001b[0m\n",
      "\u001b[0;31mBulkWriteError\u001b[0m: batch op errors occurred",
      "\nDuring handling of the above exception, another exception occurred:\n",
      "\u001b[0;31mDuplicateKeyError\u001b[0m                         Traceback (most recent call last)",
      "\u001b[0;32m<ipython-input-57-49a78018db5a>\u001b[0m in \u001b[0;36m<module>\u001b[0;34m()\u001b[0m\n\u001b[0;32m----> 1\u001b[0;31m \u001b[0mresult\u001b[0m \u001b[0;34m=\u001b[0m \u001b[0mcollection\u001b[0m\u001b[0;34m.\u001b[0m\u001b[0minsert\u001b[0m\u001b[0;34m(\u001b[0m\u001b[0;34m[\u001b[0m\u001b[0mz\u001b[0m\u001b[0;34m]\u001b[0m\u001b[0;34m)\u001b[0m\u001b[0;34m\u001b[0m\u001b[0m\n\u001b[0m",
      "\u001b[0;32m~/Documents/anaconda3/envs/crawler/lib/python3.6/site-packages/pymongo/collection.py\u001b[0m in \u001b[0;36minsert\u001b[0;34m(self, doc_or_docs, manipulate, check_keys, continue_on_error, **kwargs)\u001b[0m\n\u001b[1;32m   3159\u001b[0m             \u001b[0mwrite_concern\u001b[0m \u001b[0;34m=\u001b[0m \u001b[0mWriteConcern\u001b[0m\u001b[0;34m(\u001b[0m\u001b[0;34m**\u001b[0m\u001b[0mkwargs\u001b[0m\u001b[0;34m)\u001b[0m\u001b[0;34m\u001b[0m\u001b[0m\n\u001b[1;32m   3160\u001b[0m         return self._insert(doc_or_docs, not continue_on_error,\n\u001b[0;32m-> 3161\u001b[0;31m                             check_keys, manipulate, write_concern)\n\u001b[0m\u001b[1;32m   3162\u001b[0m \u001b[0;34m\u001b[0m\u001b[0m\n\u001b[1;32m   3163\u001b[0m     def update(self, spec, document, upsert=False, manipulate=False,\n",
      "\u001b[0;32m~/Documents/anaconda3/envs/crawler/lib/python3.6/site-packages/pymongo/collection.py\u001b[0m in \u001b[0;36m_insert\u001b[0;34m(self, docs, ordered, check_keys, manipulate, write_concern, op_id, bypass_doc_val, session)\u001b[0m\n\u001b[1;32m    641\u001b[0m             \u001b[0mblk\u001b[0m\u001b[0;34m.\u001b[0m\u001b[0mexecute\u001b[0m\u001b[0;34m(\u001b[0m\u001b[0mwrite_concern\u001b[0m\u001b[0;34m,\u001b[0m \u001b[0msession\u001b[0m\u001b[0;34m=\u001b[0m\u001b[0msession\u001b[0m\u001b[0;34m)\u001b[0m\u001b[0;34m\u001b[0m\u001b[0m\n\u001b[1;32m    642\u001b[0m         \u001b[0;32mexcept\u001b[0m \u001b[0mBulkWriteError\u001b[0m \u001b[0;32mas\u001b[0m \u001b[0mbwe\u001b[0m\u001b[0;34m:\u001b[0m\u001b[0;34m\u001b[0m\u001b[0m\n\u001b[0;32m--> 643\u001b[0;31m             \u001b[0m_raise_last_error\u001b[0m\u001b[0;34m(\u001b[0m\u001b[0mbwe\u001b[0m\u001b[0;34m.\u001b[0m\u001b[0mdetails\u001b[0m\u001b[0;34m)\u001b[0m\u001b[0;34m\u001b[0m\u001b[0m\n\u001b[0m\u001b[1;32m    644\u001b[0m         \u001b[0;32mreturn\u001b[0m \u001b[0mids\u001b[0m\u001b[0;34m\u001b[0m\u001b[0m\n\u001b[1;32m    645\u001b[0m \u001b[0;34m\u001b[0m\u001b[0m\n",
      "\u001b[0;32m~/Documents/anaconda3/envs/crawler/lib/python3.6/site-packages/pymongo/helpers.py\u001b[0m in \u001b[0;36m_raise_last_error\u001b[0;34m(bulk_write_result)\u001b[0m\n\u001b[1;32m    228\u001b[0m     \u001b[0mwrite_errors\u001b[0m \u001b[0;34m=\u001b[0m \u001b[0mbulk_write_result\u001b[0m\u001b[0;34m.\u001b[0m\u001b[0mget\u001b[0m\u001b[0;34m(\u001b[0m\u001b[0;34m\"writeErrors\"\u001b[0m\u001b[0;34m)\u001b[0m\u001b[0;34m\u001b[0m\u001b[0m\n\u001b[1;32m    229\u001b[0m     \u001b[0;32mif\u001b[0m \u001b[0mwrite_errors\u001b[0m\u001b[0;34m:\u001b[0m\u001b[0;34m\u001b[0m\u001b[0m\n\u001b[0;32m--> 230\u001b[0;31m         \u001b[0m_raise_last_write_error\u001b[0m\u001b[0;34m(\u001b[0m\u001b[0mwrite_errors\u001b[0m\u001b[0;34m)\u001b[0m\u001b[0;34m\u001b[0m\u001b[0m\n\u001b[0m\u001b[1;32m    231\u001b[0m \u001b[0;34m\u001b[0m\u001b[0m\n\u001b[1;32m    232\u001b[0m     \u001b[0m_raise_write_concern_error\u001b[0m\u001b[0;34m(\u001b[0m\u001b[0mbulk_write_result\u001b[0m\u001b[0;34m[\u001b[0m\u001b[0;34m\"writeConcernErrors\"\u001b[0m\u001b[0;34m]\u001b[0m\u001b[0;34m[\u001b[0m\u001b[0;34m-\u001b[0m\u001b[0;36m1\u001b[0m\u001b[0;34m]\u001b[0m\u001b[0;34m)\u001b[0m\u001b[0;34m\u001b[0m\u001b[0m\n",
      "\u001b[0;32m~/Documents/anaconda3/envs/crawler/lib/python3.6/site-packages/pymongo/helpers.py\u001b[0m in \u001b[0;36m_raise_last_write_error\u001b[0;34m(write_errors)\u001b[0m\n\u001b[1;32m    196\u001b[0m     \u001b[0merror\u001b[0m \u001b[0;34m=\u001b[0m \u001b[0mwrite_errors\u001b[0m\u001b[0;34m[\u001b[0m\u001b[0;34m-\u001b[0m\u001b[0;36m1\u001b[0m\u001b[0;34m]\u001b[0m\u001b[0;34m\u001b[0m\u001b[0m\n\u001b[1;32m    197\u001b[0m     \u001b[0;32mif\u001b[0m \u001b[0merror\u001b[0m\u001b[0;34m.\u001b[0m\u001b[0mget\u001b[0m\u001b[0;34m(\u001b[0m\u001b[0;34m\"code\"\u001b[0m\u001b[0;34m)\u001b[0m \u001b[0;34m==\u001b[0m \u001b[0;36m11000\u001b[0m\u001b[0;34m:\u001b[0m\u001b[0;34m\u001b[0m\u001b[0m\n\u001b[0;32m--> 198\u001b[0;31m         \u001b[0;32mraise\u001b[0m \u001b[0mDuplicateKeyError\u001b[0m\u001b[0;34m(\u001b[0m\u001b[0merror\u001b[0m\u001b[0;34m.\u001b[0m\u001b[0mget\u001b[0m\u001b[0;34m(\u001b[0m\u001b[0;34m\"errmsg\"\u001b[0m\u001b[0;34m)\u001b[0m\u001b[0;34m,\u001b[0m \u001b[0;36m11000\u001b[0m\u001b[0;34m,\u001b[0m \u001b[0merror\u001b[0m\u001b[0;34m)\u001b[0m\u001b[0;34m\u001b[0m\u001b[0m\n\u001b[0m\u001b[1;32m    199\u001b[0m     \u001b[0;32mraise\u001b[0m \u001b[0mWriteError\u001b[0m\u001b[0;34m(\u001b[0m\u001b[0merror\u001b[0m\u001b[0;34m.\u001b[0m\u001b[0mget\u001b[0m\u001b[0;34m(\u001b[0m\u001b[0;34m\"errmsg\"\u001b[0m\u001b[0;34m)\u001b[0m\u001b[0;34m,\u001b[0m \u001b[0merror\u001b[0m\u001b[0;34m.\u001b[0m\u001b[0mget\u001b[0m\u001b[0;34m(\u001b[0m\u001b[0;34m\"code\"\u001b[0m\u001b[0;34m)\u001b[0m\u001b[0;34m,\u001b[0m \u001b[0merror\u001b[0m\u001b[0;34m)\u001b[0m\u001b[0;34m\u001b[0m\u001b[0m\n\u001b[1;32m    200\u001b[0m \u001b[0;34m\u001b[0m\u001b[0m\n",
      "\u001b[0;31mDuplicateKeyError\u001b[0m: E11000 duplicate key error collection: ptt.article index: _id_ dup key: { : ObjectId('5b8cedb0360a3e15d49824d9') }"
     ]
    }
   ],
   "source": [
    "result = collection.insert([z])\n"
   ]
  },
  {
   "cell_type": "code",
   "execution_count": 58,
   "metadata": {},
   "outputs": [
    {
     "name": "stdout",
     "output_type": "stream",
     "text": [
      "<class 'pymongo.cursor.Cursor'>\n",
      "{'_id': ObjectId('5b8cedb0360a3e15d49824d9'), 'title': '[選片] 命帶追逐 引爆點 小偷家族'}\n"
     ]
    }
   ],
   "source": [
    "result = collection.find({}, {'title':1})\n",
    "print(type(result))\n",
    "print(result[0])"
   ]
  },
  {
   "cell_type": "code",
   "execution_count": 60,
   "metadata": {},
   "outputs": [
    {
     "name": "stderr",
     "output_type": "stream",
     "text": [
      "/Users/aaron/Documents/anaconda3/envs/crawler/lib/python3.6/site-packages/ipykernel_launcher.py:3: DeprecationWarning: insert is deprecated. Use insert_one or insert_many instead.\n",
      "  This is separate from the ipykernel package so we can avoid doing imports until\n"
     ]
    }
   ],
   "source": [
    "for x, y in zip(metadata, contents):\n",
    "    z = {**x, **y} \n",
    "    result = collection.insert([z])    \n",
    "    #filename = './crawl_file/'+ z['article_id']+'.json'\n",
    "    #with open(filename, 'w') as outfile:\n",
    "        #json.dump(z, outfile, ensure_ascii=False)"
   ]
  },
  {
   "cell_type": "code",
   "execution_count": 71,
   "metadata": {},
   "outputs": [
    {
     "name": "stdout",
     "output_type": "stream",
     "text": [
      "<class 'pymongo.cursor.Cursor'>\n"
     ]
    }
   ],
   "source": [
    "result = collection.find({}, {'content':1, '_id':0})\n",
    "print(type(result))\n"
   ]
  },
  {
   "cell_type": "code",
   "execution_count": 72,
   "metadata": {},
   "outputs": [
    {
     "name": "stdout",
     "output_type": "stream",
     "text": [
      "{'content': '作者 stepaside (紐牛) 看板 movie 標題 [選片] 命帶追逐 引爆點 小偷家族 時間 Mon Sep 3 15:04:56 2018 手機排版，跪求不要噓我嗚嗚 三部都是近期內有些心動的片 不知道大家比較推哪一部呢？ 身邊較多人看過小偷家族， 似乎比較沉重呢。 命帶追逐預告片看起來ㄎㄧㄤㄎㄧㄤ的， 不曉得會不會其實內容不有趣。 引爆點是衝著吳慷仁的演技， 可是版上滿多負評的。 休假想出門看電影， 請求各位推薦了~~~~ 感謝感謝 Sent from JPTT on my Samsung SMJ730GM. '}\n",
      "{'content': '作者 tryzji (奇蹟式.) 看板 movie 標題 [情報] iTunes多部90特價延長 / 新增2部 時間 Mon Sep 3 15:07:39 2018 剛剛看到上週iTunes90元特價的片單，好像因為週末價格設定出問題，活動再延長兩天， 再增加兩部片單特價 漫漫回家路 再見瓦城 前者奧斯卡入圍多項，很愛魯妮瑪拉跟劇情感動大推後者入圍多項金馬獎，聽說也是很 不錯看 目前總共12部片子，都在90元起特價中~有興趣的影迷趕緊出手了 :D 以下節錄自原貼文特價連結 : https://goo.gl/XQPpjh https://goo.gl/H5vSqs 90 摩天樓 : https://goo.gl/hvGLw2 90 倒帶人生 : https://goo.gl/TLwpaH 90 驗屍官 : https://goo.gl/dqmpeZ 90 信長協奏曲 : https://goo.gl/3pSkbu 90 梭哈人生 : https://goo.gl/4dKcu4 90 深夜食堂 : https://goo.gl/3N8YdQ 90 北京遇上西雅圖之不二情書 : https://goo.gl/XL6Tu6 150 千年女優 : https://goo.gl/75GfWQ 150 新天堂樂園 : https://goo.gl/9xrezR 150 再見瓦城 : https://goo.gl/4a1PLB 150 漫漫回家路 : https://goo.gl/wWbhzW'}\n",
      "{'content': '作者 qpr322 (龍魚) 看板 movie 標題 [新聞] 賈樟柯對話法國女演員茱麗葉畢諾許 時間 Mon Sep 3 15:10:47 2018 新聞網址： http://news.mtime.com/2018/09/03/1583917.htmlp2 9月2日，正為新片《江湖兒女》發行路演的賈樟柯與法國國寶級女演員茱麗葉畢諾許在 上海大劇院參加了主題為“生如夏花舞台是我唯一的現實”的對談活動，兩人就演員 、角色、即興表演等方面進行了交流與探討。活動現場，賈樟柯還將帶有“江湖兒女”字 樣的定制圍巾作為禮物，贈予此次前來中國巡演的茱麗葉畢諾許。 賈樟柯與茱麗葉畢諾許就演員、角色、電影、舞台等問題貢獻了獨特的觀點。畢諾許提 起之前與前夫、《新橋戀人》導演里歐卡霍斯合作初期因為崇拜，所以遵循了“遵從” 的原則。後來隨著演戲經驗的不斷積累，對表演擁有了更多獨立的想法，開始嘗試不再“ 遵從”，最終發現表演會更加出色。 對此，賈樟柯現場調侃，這十分符合自己與演員趙濤的合作情況，之前趙濤也是比較“遵 從”，但她為了《江湖兒女》中的巧巧積累了很多資料，拍攝過程中添加了許多自己的見 解，兩人在片場還發生過多次“爭吵”。正因如此，趙濤此次的表現才令人刮目相看，贏 得國內外媒體的一致好評。 賈樟柯還在對談中提到，前些日子在浙江衛視《我就是演員》欄目的錄製 現場，聽到了女演員關於年齡超過30歲導致角色受限的困惑。但今天見到畢諾許之後，發 現她依然擁有很多的創作慾望與機會，他認為這是一個值得大家思考的問題。 對話中賈樟柯聊到新作《江湖兒女》，他認為每個人都有自己的江湖，畢 諾許也是江湖兒女。隨後，又說起畢諾許近些年開始與亞洲導演頻繁合作，先後與侯孝賢 、阿巴斯奇亞洛斯塔米、河瀨直美、是枝裕和合作。於是賈樟柯在現場發出邀請，希望 能與畢諾許一起拍攝新作品，成為畢諾許第五位合作的亞洲導演。對此，畢諾許欣然接受 邀約，並表示5是她的幸運數字，所以一定要合作。 活動現場，賈樟柯將帶有“江湖兒女”字樣的定制圍巾作為禮物贈送給畢 諾許，祝愿音樂戲劇《生如夏花》中國行一切順利。畢諾許看到這條定制禮物後非常喜歡 ，欣喜地與賈樟柯擁抱並合影留念。據悉，茱麗葉畢諾許與賈樟柯已相識15年，賈樟柯 還親切的稱畢諾許為“姐姐”，多年的默契也讓活動現場的氛圍十分輕鬆與融洽。 由賈樟柯執導，趙濤、廖凡主演的犯罪愛情電影《江湖兒女》，將於中秋 檔9月21日在中國上映。 '}\n",
      "{'content': ' 板規 PAGE DOWN 電影版版旨 １、 本版為電影(MOVIE)討論版，而非影劇八卦版 版面文章提供板友討論與 電影相關議題為主 包括但不限於：電影作品暨相關內容、電影獎項、電影政策、 電影產業資訊、觀影心得等議題、電視(網路)電影資訊等 本板發文(言)規範如下 ２、 禁止無關電影板旨討論(板規1)與 兩岸政治與政治相關內容， 包括 但不限於無關電影作品、影劇八卦新聞或兩岸政商 等文章 違規 刪文並水桶一周 。 註： 本條政治相關之判定，採 嚴格認定 。 即限於探討電影作品欲傳 達之政治或社會議題、或探討政治立場對特定電影作品之影響。 ３、 禁止 挑釁、引戰、人身攻擊、歧視性字眼、不雅文字的情緒性言論 經依據前後文義判讀有惡意言論行為並符合下列任一項行為 違規水桶一周，若同時兩項以上違規則判決天數亦隨之增加 a 、 以政治標籤包括但不限於：吱吱、蛆蛆、支那、皇民等攻擊板友。 或特定版友間人身攻擊、謾罵，且須經當事者來信檢舉成立 b、無正當理由以情緒性、負面詞彙謾罵或以動物代稱特定人、族群、國家 c、經發文者檢舉於推文無理由指稱工讀生、廣編等言論 PAGE DOWN ４、 禁止具商業買賣、交換等行為的文章（含票券交易，無論有無對價關係） 除4a以外違規水桶一週並刪文 違反4a分身違規所有帳號一併水桶兩年 a、口碑行銷活動產生的正常心得文不視為違規；但若 於電影首輪院線 上映前或上映期間，以 多重帳號（分身） 發布或轉錄該電影之相關 心得、資訊、報導，致有干擾板友判斷電影優劣之情事，即視同商 業行為，經查證屬實，水桶期限 2 年。 b、新聞類中夾帶的售票資訊，如非第三方媒體（如報紙、雜誌、 電視）報導原文所有，皆視為本條之商業買賣行為。 c、遭處罰之帳號如經判斷為電影製作、發行、行銷、贊助相關業者所 持有，該業者將列為本板不受歡迎名單至少 2 年，期間禁止一切 行銷活動(包括但不限於贈票、抽獎等)消息之發布。 ５、 有鼓吹、暗示、詢問、教導違法情事之虞者 違規水桶15日並退文違規推文部分水桶30日 如 提供盜版資訊、聲稱自己看盜版(或明顯透過非法管道觀看) 問種子、載點、PPS、叫人去google或PPS等 PAGE DOWN ６、 [雷文條款] 未上映或在台上映未滿六個月電影劇情心得文章規範 違反6b、c、d者刪文並水桶一周 違反6e、g者退文水桶30天或推文水桶60天 a、透露影片官方發布電影預告內容或劇情說明已知部分可免受此條文規範 b、在未做任何警告或標註不明顯的情況下予以透露； 或於第一頁以排版、上色、反覆及其他說明方式，刻意突顯者 c、無論雷文警告寫於標題或內文，應將警告文字單獨成行， 並間隔放雷處一頁以上。並依據發文格式發布 d、雷文必須依據版主預設發文格式發布 得詳註觀影時間、觀影戲院(地點)自行買票或片商邀約等資訊 (非必要) e、標題標註無雷欺騙版友，內文透露關鍵劇情者 或於無雷文推文透露關鍵未公開劇情者 標題直接爆雷者 加重處分 f、在台公開上映滿六個月或於在台未上映且其他國家公開上映超過一年 電影作品內文可不受此條文規範，發文標題則無上映期限限制 g、發文標題爆雷規範：無論電影上映多久外標題一率不得爆雷 ７、 短時間內大量無內容推、噓文鬧版者 水桶一星期。 ８、 非板主、電影板所屬群組管理員或PTT站務而使用公告名義者，含回公告文 違規水桶一星期 PAGE DOWN ９、 文章或標題出現亂碼，或注音文等非正常表現方式，造成板友閱讀不便者 刪文水桶一周 。 １０、 發文詢問 即可查詢的資訊 刪文處置 。 a、網路或電影時刻表 b、戲院交通、軟硬體座位規格、周邊設施、訂票資訊等相關問題 請至 Theater戲院版發問：視聽劇場 > Movies > Theater １１、 [新聞]、部落格文章、廣編稿新聞規範 違規刪文並水桶一周， 查獲分身ID違規共同處分加倍額度 a、 內容須至少有七成以上與電影作品及其內容相關，且須附上來源網址 b、 禁止自PTT其他版面轉錄至電影版，此類文章請以全新發文發布 c、 每日單一使用者僅限發布２篇新聞或外部網站部落格文章， 分身計算於每日額度之內 PAGE DOWN １２、 為使板友對於板規建議有充分及完整表述的方式， 板友得以 [板規] 類別建議修訂暨新增電影板規，並依下列規範發布 a、 文章內容不限定格式，但必須有新增/修定條文與新增/修定理由 修訂條文建議需附上主附則內文，必須均附上前後差異 b、 板主需於第一篇發布之後一個月內以推文或公告告知修訂結果 c、 建議文章限討論單一板規，每人(含分身帳號)每月僅限以新發文或回文方式 發布一篇。 d、 於第一位板友發布後一個月內，其他板友亦得以回文或新發文方式回應， 相同或相似板規建議一個月內達五篇發文或回文。 板主需於兩周內推文或公告修訂結果 e、 如板主認為建議不夠充分得公告延長必要回覆時間一周， 同時增加開放討論篇數 f、 建議內容不得提及已判決處置案件，違規案件申訴依據組務規範 當事人以信件申訴並保留申訴信件做為組務申訴依據 g、 經板主回應處置之後半年內不得再度提案該條板規暨相關內容 h、 板主公告不得回文 i、 違規檢舉得於信件或置底板規推文提出，推文每月備份於精華區後清理 j、 另外組務規範必要連署提案亦得轉錄於板上 其他無關電影版討論之版務文章一律刪除處置 PAGE DOWN １３、 分類文章預設格式之說明： 如未依分類文章發布版主得協助修改外標題處置 [ 雷] 觀影心得與評價，請依評價優劣與有無提及劇情， 分別在首字填入好、負、普、無等字眼。 詳細規範請詳閱並依據板規7執行 [問片] 片名詢問， 用於已知部分劇情但不知片名時 說明：有一部電影，你記得劇中情節或部份演員， 但就是 想不起片名 ，才用這個分類 [片單] 選片建議， 有特定需求欲徵求相關電影，請版友開片單的啦 範例：[片單] 像頂尖對決那樣鬥智的電影 [片單] 找結局逆轉，讓人猜不透的電影 [片單] 跟曖昧對象看的電影/給學生看的電影 [選片] 選片建議， 用於有特定名單但不知要選哪部 請將待選片名打在標題 方便搜尋 範例：[選片] 變形金剛 跟 哈利波特 選哪部為佳？ [請益] 用於 電影相關問題 ，但 不屬於上述三類者 [討論] 發表各類電影相關話題 [贈票] 電影贈票活動訊息，注意不得要求金錢報償或任何實物交換 PAGE DOWN １４、 Live 文與票房文規範 違規水桶一週處分 a、Live文限於例假日、國定假日及其前夕發布，每人每日限開一篇、 每部片在三個月內限開一次。（請以/搜尋確認） b、票房應至少以周為單位，單日票房、周末票房或其他低於一周的票 房，請移至 boxoffice 票房板 討論。 １５、 未經推文（含噓文、註解）者同意，或無正當理由，刪修推文者。 需經當事人檢舉違規者水桶一個月處分 註１：違反板規或違法內容、無雷文章報雷、公布個資 或散佈盜版、張爸病毒詐騙連結即為具正當理由可逕行刪除 １６、 爭議性人事物於公告後 禁止相關新聞、討論 ， 違者刪除文章並水桶一星期 。 例如：谷阿莫。 １７、 禁止 明顯灌水、未滿三行或30字、同(推)文一再重貼、置底FAQ 板面精華區已有多次重覆討論的文章。 違規刪文並水桶一週，情節重大或自刪重貼手動置底者可加倍處分 PAGE DOWN 違反以上各條者，依據各項板規律定之處分處置 板主得斟酌情節之輕重、犯後之態度等，撤銷退文或水桶罰則 經公告處分一周以上，及代表違規者接受處置，版主得不再受理申訴 版主得對於特定文章偏離討論且爭議過大 或文章內容以及推文有過度爭執糾紛等，甚至造成多名板友違規狀況之可能 得於推文提示後逕行鎖文冷靜一周以上，必要時公告終止討論串 板規修訂日期 2018.08.28 2018.08.29:雷文板規修訂調整 1RXVvMWZ (movie) 2018.09.01:板規建議規範 ＥＮＤ '}\n",
      "{'content': '作者 VOT1077 (Arsene 風之谷衛鷹 ) 看板 movie 標題 [公告] 電影版板規修訂說明 時間 Tue Aug 28 20:19:58 2018 先 謝謝各位板友的連署 讓我們先快速進入正題 說明板規修訂的部分 說明有點多 請各位板友有點耐心觀看 其他說明會留到最後 為維持電影版討論電影作品內容之主旨， 但我們也常看到有人把電影版當作一個政治八卦的另一個戰場 討論內容無關電影 反而變成八卦議題 首要工作 把 電影版回歸電影版正常使用秩序 是第一個重要的課題 其次有關工讀生文 廣編稿的爭議 以及現在很多推噓文謾罵的問題 也希望透過這次版規的修訂 能夠有所改善 因應現有站方系統更新與時空環境差異等因素，既有板規有不符現況等情事 因此將板規重新修訂，修訂標準分項說明如下： [政治與其他影劇八卦議題] 1.不是演了電影就永遠只是電影演員，只有他在電影作品裡才是 任何事情都無限上綱成電影相關討論，那只會讓電影版更亂而已 很多人不喜歡電影版八卦化， 事實上電影版 也就只是討論電影的討論版面， 電影版為維持 與電影相關內容討論主旨 板規1 重新述明電影版主旨 １、 本版為電影(MOVIE)討論版，而非影劇八卦版 版面文章提供板友討論與 電影作品內容 相關議題為主 新的板規裡面 電影版文章將著重在電影作品內的議題與內容 2.電影與政治不可能分開 我也相信這個論點， 除了維持以往政治文章的處理標準 電影作品裡的政治內涵一樣可以討論 但相關電影工作者暨演藝人員的私人的政治與社會議題傾向 EX:某某某在微博說了自己最愛台灣被封殺、某某某請求粉絲連署公投等... 上述文章 將再不會是本版討論的項目 其他像是 EX:某某某離婚有小三、某某某欠稅被逮補 這類的影劇八卦也不會是本版討論的項目 畢竟這是影劇八卦新聞，不是電影內容 演員發生事情的原因不是電影作品..... 其他 兩岸電影政策性問題 因為兩岸特殊政治關係所致 與 金馬獎等牽涉兩岸電影人的內容 這部分因為與電影產業與內容導向相關 我會開放討論 但已經有偏離板旨討論時 甚至造成爭執或是過度違規的時候 會以公告鎖文一定時間請板友冷靜討論 好 那也有人會問 如果是 EX: 某導演因為某議題被電影公司請辭 演員集體聲明挺導演 這部分如以電影公司與電影作品的為導向 我會適度開放討論 但一樣已經有偏離板旨討論時 甚至造成爭執或是過度違規的時候 會以公告鎖文一定時間請板友冷靜討論 3.新聞、其他網站文章的管理 新聞、部落格文章內容須 大部分是關於電影作品內容 若內容只講了片名、僅一小段提到電影作品，其他都在講演藝人員的家事情事私人事 皆屬於無關電影版的文章。則請移駕至其他相關版面討論 避免新聞洗文 且每人含其分身帳號每日僅能發布兩篇新聞與部落格文章 並必須內含新聞來源網址，並僅允許新發布文章，禁止自其他版面轉文 [板友間指控特定身分(工讀生)與謾罵爭執] 4.板友間指控、謾罵爭執 我知道有人很在意推文謾罵的情況，認為有些人的推噓文對發文者有很多不尊重 會影響到發文者的意願， 但這類的情況因為有牽扯到兩造的關係，畢竟一個銅板拍不響 關於政治標籤 以及 所有版友間的糾紛，包括 EX:推文無故指稱工讀生的內容、幫板友貼上政治標籤、兩造情緒性爭吵、刪修推文等 皆須當事人或發文者來信檢舉才會成立 5.他指控我發這樣的文章是工讀生 這樣的標籤 我也會延伸使用到工讀生這樣的情況 至於是不是違反板規 亦會根據相關討論文義內容判定是否符合才會處分。 像是你只是推個 EX:工讀生滾拉 、工讀生 等簡單無述明理由的情緒性言論 那被檢舉的話我一定會處分 但你前後文是說明了這篇文是疑似工讀生的理由 那我就不會處分 不會單單只看工讀生三個字就決定罰或不罰 一樣這樣的指控需要經當事人檢舉就會立案後並檢視情況再行處置 [打雷了好可怕] 6.雷聲是有期限的 有很多電影都已經上映很久了，就算你沒看過，可能電影版也討論到翻了 我想，要是讓各位還在擔心因為爆了復仇者聯盟第一集的雷就要被處分 這是不對的事情，所以爆雷文部分， 限定未上映或在台上映未滿三個月電影才需使用雷文，其他電影得用得不用 不會因為沒有寫雷就被處分 就算你現在爆了鋼鐵人1的雷我也不會處分 7.預設防雷頁規範 既然有人會擔心工讀生或廣編文太多 那接下來我會設定 [ 雷]的預設發文內容 ，將防雷頁的部分預設好 透過 提供資訊透明化的方式 讓看文的板友決定這一篇是不是每個人想像中的廣告 當然 你知我知 這樣的資訊提供是必須建立在虛擬網路的信任上 有時候這樣的信任並不是很扎實就是 (換言之就是只防君子用的) 防雷頁會加入 A.觀影地點(影院) B.觀影時間 C.觀影方式(自購票券或片商邀請) D.其他說明 其中 A、B、C為必要資訊 請發文者務必填寫 如果缺少任何一樣資訊一律刪文 [版務文章規範] 8.抓耙子我要報復你 為避免板友間互相挾怨報復， 置底公開推文檢舉取消 ，任何檢舉請來信版主 任何檢舉看到在置底一律刪除，是不是需要處分則會審視後在行處理 9.站長說:板務可以在版面討論 我知道 站長說過版面上可以討論版務 但為了維持版面討論的秩序 板友對於版務想要討論或建議 限於版面上特定公告或是置底板規文下方推文討論 其他板友除了組務規定連署之必要文章(罷免、新任板主)外 無關電影板旨文章一律刪除 10.拜託板主~我不是故意違反版規的 板主得依情節與違反板規後態度協助撤銷退文處分 另外 如果因為謾罵、貼標籤、無故刪修推噓文等特定版友間的糾紛被處分的 想要撤銷處分也請原來檢舉的板友原諒你 並來信告知我也能協助及早解除處分 11.新版規執行時間與方式 新版規自發布起生效，不溯及暨往 若標準有與以往標準不同時，自公告後以新公告板規標準執行 板規公告磨合期間為兩周，板規有修改的部分於磨合期間內 第一次違規僅刪除違規文章而不處分 第二次以上依據201808版規處分 以上報告 板規修訂其實標準看起來改很多 但大原則就是電影版就是討論電影的地方 這與以往並沒有不同 我相信這影響到的文章 5% 不到 因為版規的修訂 今天你要說我是板皇、獨裁、文字獄等等的請自便 你的意見與想法我尊重 而且在只有我一個版主的情況下 我不能否認這樣的事實 當版主那麼久了 我很清楚這是個很容易被討厭的位子 我在8/5於電影版發文 1RPisaI_ (movie) 提出政見給每一位板友並請求連署 甚至也請有意願管理的人一起來發文連署申請版主 這也是個選舉過程 而且方式並不難 但結果呢? 到最後是有人反對我的政見並投下反對票，我由衷感謝您的想法 可是真的 沒有想要一起管理的人來一起申請連署版主嗎? 如果沒有 就希望各位能配合提出並執行解決方法的人 這裡是PTT，為求慎重，以及滿足有些人希望可以徵選版主的需求 在組務規範以外 我還特地到電影版上來提出政見請求各位支持。 以合理的方式補充完成徵選的作法 關於電影廣編文章(工讀生)的部分 我知道很多人不喜歡業配來這裡發文，甚至影響討論風氣等等 但現在電影大多是商業電影，既然有商業就會有廣告， 你看電影不看預告嗎? 你看電影不看新聞了解一下有誰演 演甚麼內容嗎? 我不能否認電影版不會有這樣的廣編文章出現，也就是很多人俗稱的工讀生 但在商業環境下，這情況也是無可避免 畢竟這裡是公開的討論板面 當公關公司也是正常使用者的前提下 我沒有也無法要求特定帳號不得發文 甚至將這樣的商業廣告行為預先做任何汙名化的假設 有人擔心 電影公關會找一堆分身帳號來操作PTT電影版的風向 其實 我也擔心 那一堆分身的問題就偏偏不是板主可以管的 而是需要站方透過更多積極的方式去管理 站方要不積極去管我不知道，我也管不著 在現在PTT這樣 分身浮濫 的環境之下 我只能請各位透過推噓文 理性的表達自己的意見 而不是靠簡短情緒性謾罵 那無助於討論與評價 版面的秩序與討論的內容 這也才是未來一個版主才能處理的部分 你要真的擔心工讀生 影響電影版的討論風氣 那請先去跟站長討論如何解決分身問題 這問題一日不解 工讀生洗風向的疑慮我相信永遠也不會有解決的一天的 我希望電影板可以回歸正常的討論， 讓喜歡看電影 討論電影內容的版友們 有個秩序正常的版面討論 你喜歡看電影，我也喜歡電影 我也相信喜歡看電影的版友們都希望有個專屬於電影的版面 如果你也是這樣的人 希望各位能支持這樣的板規修訂 謝謝你的支持 我也會繼續努力 對於以上板規修訂 有任何意見想表達 可以在這篇的推文討論 我會盡可能回覆各位板友 也許還有沒有注意到的修訂 近期或許還會有補充公告 以上報告 電影版版主 VOT1077 2018/08/28 20:19 這個呢 是 休止符 是我最喜歡的一個符號 它代表了 靜止 休息 呼吸 然後再 重新來過 其實每一個符號都有它自己的意義 當你真的了解它之後 你再回過頭去看它 它就不只是一個 符號 而是一種 情感 By生日快樂 PTT2個版 => 自然就是美 => 天狼星 => VOT1077 衛鷹、現 https://www.facebook.com/VOT1077.eye'}\n",
      "{'content': '作者 VOT1077 (Arsene 風之谷衛鷹 ) 看板 movie 標題 [公告] 板規修訂 板規參議規範 時間 Sat Sep 1 20:29:59 2018 板規12原文 １２、 除組務規定連署、罷免等文章以外 版面板務討論僅限於置底板規文章下方推文提供意見或站內信於版主 違規檢舉請一律以站內信方式，不公開執行，推文檢舉一律刪除 公告文章不得回文，一律以推文方式回應 其他無關電影版討論主旨之版務文章一律刪除處置 修訂如下 １２、 為使板友對於板規建議有充分及完整表述的方式， 板友得以 [板規] 類別建議修訂暨新增電影板規，並依下列規範發布 a、 文章內容不限定格式，但必須有新增/修定條文與新增/修定理由 修訂條文建議需附上主附則內文，必須均附上前後差異 b、 板主需於第一篇發布之後一個月內以推文或公告告知修訂結果 c、 建議文章限討論單一板規，每人(含分身帳號)每月僅限以新發文或回文方式 發布一篇。 d、 於第一位板友發布後一個月內，其他板友亦得以回文或新發文方式回應， 相同或相似板規建議一個月內達五篇發文或回文。 板主需於兩周內推文或公告修訂結果 e、 如板主認為建議不夠充分得公告延長必要回覆時間一周， 同時增加開放討論篇數 f、 建議內容不得提及已判決處置案件，違規案件申訴依據組務規範 當事人以信件申訴並保留申訴信件做為組務申訴依據 g、 經板主回應處置之後半年內不得再度提案該條板規暨相關內容 h、 板主公告不得回文 i、 違規檢舉得於信件或置底板規推文提出，推文每月備份於精華區後清理 j、 另外組務規範必要連署提案亦得轉錄於板上 其他無關電影版討論之版務文章一律刪除處置 修訂說明: 前言： 首先先跟各位說抱歉 因為板規文問題影響了板務的執行 我也了解很多人對於板規建議有所想法與期待 一個規定本來就無法滿足任何人 所以公告之後對這樣的律定如果有任何不滿 就請拿這篇公告去跟小組組務 Buzz_Service 申訴 板上我不再做任何回覆 其他依據板友提供意見，設定板規討論文章類別暨規範，其他以QA方式說明 1、板規為什麼要動組務規範? 在維護板友參與板規討論的權益下， 現在板規明定板規討論的方式是站方規定也是必須 但以前的板規並沒有明確的規定 所以這次修訂做出更明確的規定，讓板友有個依據可以使用， 依據 批踢踢實業坊BBS站使用者違規及申訴處理規則 第四章 對於板主或小組長管理之建議 明確於板規律定規範辦理 原擬定以推文方式公開討論 但現在板友覺得不夠 故重新公告修訂板規依據站務規範處理MOVIE板規討論相關事宜 2、板規建議確實無法三言兩語討論? 我同意這樣的理由是合理，所以有研擬規則並有秩序的開放這樣的討論 3、板規文會影響板面秩序嗎? 根據PTT其他板的經驗，我不否認會有這樣的可能， 但電影板從以前只有沒板主會影響秩序，所以現行開放板規建議也沒有不可 4、版面發佈討論，才會引起板友共鳴? 我最初的想法是無論版面討論或是推文站內信建議，都應該一視同仁 不應該有所差異，但現在板友既然有疑慮，版主的工作就是讓秩序維持 妥協開放也是維持秩序的方式，更何況開放對板主權利來說也沒影響 5、要不要開放投票? 板規律定由板主全權負責，執行者也是板主 我不是會把這樣的律定責任移轉置板友身上的人 到板規有甚麼最後責任也是板主 不會是板友們 有很多情況不是簡單一個二分法就可以決定 投票會是最後手段但不是必須，除非討論方向太多且意見過於分歧 否則能不用就不用 6、板主你為什麼獨裁不民主搞黑箱? 因為現在我只有一個，這樣的指控是事實我無法避免也無從否認 你要說獨裁也好 民主也好 都只是管理的方式 我根據以往的經驗 透過板友的意見提供並觀察溝通 來減少這樣的爭議 之前有人以站內信或推文方式 也都有相關回應並公告處理 謝謝各位的意見 未來希望透過板規建議的開放 可以獲得更多意見 7、版規討論可以回一下推文嗎？ 因為正在擬定開放的方式 所以統一於這一篇回應並修正板規 8、板規建議為什麼要等那麼久一個月 為了讓其他板友也能有充分時間表達意見與想法 9、單一板規建議為什麼限定不同人五篇而不是更多? 既然已經可以發文讓每個人的意見陳述更為詳盡，避免浪費版面以及讓其他人 可以根據同樣的議題有同樣的意見陳述方式來討論 所以採限定額度，如果板主認為討論不夠充分可以公告在開放更多額度 10、為什麼板規建議在板主處置之後半年內不得再度提案? 因為很多規定都有正反，板主處理之後每個月都在處理相反意見打轉有影響版務的疑慮 讓建議事項執行一定時間後再來檢討我認為才更有效率以及意義 11、我想要一次建議好幾條板規怎麼辦? 那就寫在同一篇建議文裡面 12、板規建議需要有甚麼內容 既然叫做建議，只有兩個必需， 你把想修定或增列的條文寫出來 並闡述為什麼要這樣修訂或增列的理由 缺一不可 13、板主監督機制不可靠? PTT現行板主監督機制就是小組長，群組監督，事實上之前板主沒上線也被拔過 對 我以前組長期間怠職也有被拔，代表這樣的機制還是有其效用。 所以，對於違規處分或板規設定有任何不滿得依據現行機制規定請洽 Buzz_Service 處理 14、開一個板規討論暨檢舉(MOVIE_BM)板? 其實從以往經驗板規討論的確沒有影響版面秩序的前提下 這樣的討論也少，是不是另外開板可以看後續是否影響到板務秩序後再討論 15、既然擔心會被亂板為什麼不限定時間發板規建議文? 在規畫的時後有想過這個選項，後來考慮這樣的限制意義上不大，就拿掉這樣的限制 16、板主處分案件為什麼不能討論? 處份公告不會鎖，有任何意見可以提出， 違規申訴也是需要當事人來申訴，在上訴組務 對處分不服請由當事人來信並依據每個板友都有的權益進行申訴即可 17、我對於這樣的開放還是不滿意或是板主以後不理我申訴怎麼辦? 現行規定要求板主一定要回而且是期限內 如果還是不服就依據板規 或拿這篇公告去跟小組組務 Buzz_Service 申訴 18、你現在公告會不會一年後才生效?? 即刻生效，想建議的現在就能發板規建議 其他爭鋒相對的話不多說了 最後我還是再說一次，這樣的規範一定有人滿意有人會不滿 如果還是不滿意請洽組務 Buzz_Service 以上是大致說明 VOT1077 2018/09/01 20:30 如果我說 愛我沒有如果 錯過就過 你是不是會難過 。 。 若如果拿來當藉口 那是不是有一點弱 。 Ｖ 如果我說愛沒有如果 真的愛我就放手一搏 。 還想什麼還怕什麼 快牽起我的手 。 By 梁靜茹 ~ 沒有如果 。 。 衛鷹、現 https://www.facebook.com/VOT1077.eye'}\n",
      "{'content': '作者 jamesk030 (大舌頭) 看板 movie 標題 [ 負無雷] 有夠支離破碎的私刑教育2 時間 Mon Sep 3 02:52:50 2018 雷文防雷資訊頁 ~~~~~~~~~~~~~ 1.影片名稱 :私刑教育2 2.觀影時間 : 09/02 3.觀影地點 : 南台 4.觀影方式 : 自行購票 夾銗L防雷說明(非必要) : n刷等其他說明請於此區說明....可留空 ~~~~~~~~~~~~~ 此區為發文防雷頁 可選擇性提供上列 1~4 資訊 或不提供亦可 觀影心得於分隔線下方發布即可 ~~~~~~~~~~~~~~~~~~~ 雷文 主文分隔線 ~~~~~~~~~~~~~~~~~~~~~~~~~~~~~~~~~ 朋友看過私刑教育後， 聽到第2集要上映就揪團一起看， 但看完之後感想只有WTF? 1.有夠拖戲的拖戲 正常一部片子， 往往上映都會聽到導演怕片太長， 一些劇情忍痛割捨， 這部片子完全相反， 兩小時的片子， 認真來說， 應該只有一小時左右在走主線劇情， 有點像編劇劇本只寫出50頁， 導演硬拍出80頁的劇情， 但多出的30頁也沒有開新支線， 只是放了無關劇情的雞毛蒜皮小事， 2.支離破碎的劇情 導演拍一堆無關主線劇情的戲就算了， 重點是把這些東西密集參在主線之中， 很多地方以為是不是導演埋伏筆？ 結果看完還真的跟主線劇情完全無關， 就好像看連續劇時， 被廣告插入打斷劇情的感覺， 而且已經密集到影響觀影流暢度了， 我看完之後震驚： 主線就這麼淺？ 這麼淺還演那麼久？。 3.武打片？文藝片？ 這集嚴格來說算是文藝片？ 衝著私刑教育的名號， 大家念念不忘的應該是流暢的武打， 但這集劇情， 一直集中在丹佐個人的內心掙扎， 那也沒關係， 但三不五時丟出一段莫名的內心戲， 卻又沒告知頭尾， 就隱約好像疑似發生過不堪回首的事， 然後也沒解釋， 有一種我是在看私刑教育7， 然後1~6集我都miss掉了的感覺， 要針對丹佐的內心掙扎發出感動， 我根本不知道你發生了什麼事啊， 其他的片至少會花點時間， 將觀眾代入主角的人生經歷， 觀眾才會內心共鳴而感動， 而私刑教育2完全沒有。 4.不夠爽快的武打 在劇情設定上， 丹佐本身當然武功高強， 但每次進入武打時， 正要開始看兩邊對戰時， 咻咻咻， 10秒打完了？？？ 反派被秒殺擊敗， 沒武打可看啊， 難怪版上有人評論這部戲， 武打：劇情 = 0.5：9.5， 就算是捍衛殺神裡， 約翰雖然也是秒殺對手， 至少一個人打幾十個， 一個人分兩三秒也有好幾分鐘， 但私刑教育裡大概一個打.....2個？ 然後這兩個還慘被秒殺？？？ 走出電影院之後， 我感覺人生被浪費了一個小時， 之所以只有一小時， 因為剪一剪， 至少還有一小時有劇情， 但不說這劇情好不好了..........。 '}\n",
      "{'content': '作者 ariel119 (愛不只是一種感覺) 看板 movie 標題 [微好雷] 電影我願意你準備更愛我了嗎? 時間 Mon Sep 3 06:29:17 2018 雷文防雷資訊頁 ~~~~~~~~~~~~~ 1.影片名稱 :我願意 2.觀影時間 : 上映第2天 3.觀影地點 : 戲院名稱 / 欣欣 ~~~~~~~~~~~~~ ~~~~~~~~~~~~~~~~~~~ 雷文 主文分隔線 ~~~~~~~~~~~~~~~~~~~~~~~~~~~~~~~~~ 本文: http://arielhsu.tw/adrift/ 電影我願意Adrift 上映日期：201882497分鐘保護級英文發音 電影我願意Adrift 短評（有雷） 對於真人實事改編的電影，我都蠻有興趣的，畢竟是有真人實證的， 電影我願意有如女版的浩劫重生或是少年Pi的奇幻漂流， 類似在海上漂流的還有獨帆之聲等等，戲份大部分都落在雪琳伍德利身上， 看過雪琳伍德利演的分歧者(Divergent) 、 分歧者2:叛亂者(The Divergent Series: Insurgent) 、 分歧者3:赤誠者(The Divergent Series: Allegiant)、 神鬼駭客:史登諾(Snowden)， 以及騙了我不少眼淚的生命中的美好缺憾（The Fault in Our Stars）。 在分歧者第一集的時候，雪琳伍德利的演技還顯得很青澀， 不過在生命中的美好缺憾有大幅度的進步， 而在這集則是讓我覺得她身材超好的>///< 反觀男主角山姆克萊弗林發揮的地方就少了很多， 有趣的是跟之前另一部我就要你好好的（Me Before You）， 他幾乎都是被女方照顧的一方。 我願意在劇情的敘述上，以倒敘法，再加上現在過去穿插的方式， 來描寫男女主角之前的相遇過程，而拍攝的鏡頭上也有拉近拉遠的， 以及空拍的俯視角度。 在男友被暴風雨的海浪給捲走後，在獨自一人的女主角塔米（雪琳伍德利 飾）， 面對一望無際的大海努力求生，也出現不少幻象，除了原本吃素， 要克服殺生以求生存等等。其實，裡面有一幕比較讓我印象深刻的地方是， 當受困的時候， 男主角理查（山姆克萊弗林 飾）說： 真希望你沒遇見我，那你現在就不會淪落到這裡了。 塔米回答：那我就沒有我們共同的回憶，這些回憶無可取代。 看似真實，但事實上，我比較相信那是女主角面對這次挫折時所產生的幻象， 內心問自己千百遍的問題，而最後的現實，她仍認為即時如此，寶貴的回憶是無法取代。 其次，就是再出航前男主角的求婚， 理查說：拜託你嫁給我。 塔米答：你不應該說拜託的，那好像是你需要幫忙。 恩，求婚或結婚，原來不應該說拜託 這部片長不算長，是個帶著悲傷，貼近人生無常又平實的愛情故事， 喜歡陸鳥在片中的兩次安排，前者代表未知，後者則代表著希望， 人生中相遇是種緣分，而分離也是。 電影我願意電影句子: 1.花的生命是最短暫的，它可以在一天之內變色開花，然後綻放，開花死去。 2. 瑪雅露卡，意思是”跨越地平線的人”。 3. 你想跟我開始環遊世界嗎? 我想跟你走遍全世界。 那就走吧 4. 我如果聽我爸的話，我現在還在海軍，但我決定活出自己的人生。 5. 我不想要只是跟你去冒險，我知道這是很棒的機會但我不想這樣就回家。 6. 我航行了半個地球才遇見你，我不想要這樣就放棄。 7. 我不想要殺魚，因為我不想傷害生命，但這樣我們就無法去夏威夷。 8.你慢慢來沒關係，我也可以餓死。 9.真希望你沒遇見我，那你現在就不會淪落到這裡了。 那我就沒有我們共同的回憶，這些回憶無可取代。 10. 生命中的一個死去的人應該是老人，而不是自己的媽媽， 我還是在心裡需要她的意見，仰賴她能給我指點。 11. 俗話說，男人都想娶跟自己媽媽很像的人，是真的嗎？ 12.拜託你嫁給我。 你不應該說拜託的，那好像是你需要幫忙。 13.騙我吧，讓我相信這一切都會沒事的。 14. 我會為暴風雨搭一個遮雨棚。 15. 一小塊遮陽布，就能讓全世界消失。 16.你準備要更愛我了嗎? '}\n",
      "{'content': '作者 pipiboygay (喜歡男人的男生) 看板 movie 標題 [新聞] 好勵志心臟病童遭毒舌刺激 把到正妹 時間 Mon Sep 3 07:25:57 2018 新聞網址： https://tw.entertainment.appledaily.com/realtime/20180903/1422746/ 好勵志心臟病童遭毒舌刺激 把到正妹還多活5年 電影《無聊的人生我死也不要》（This Crazy Heart）描述心臟病童大衛與玩咖大哥哥藍 尼的真人真事，藍尼把大衛當作一般人看待，初次見面就問大衛：活不了多久，為什麼 要上學？沒想到大衛竟秒答：被強迫的。藍尼笑看生死的態度也因此獲得大衛好感 ，讓他陪伴完成人生願望，但就連大衛想談戀愛，藍尼都要毒舌碎念，吐槽女生有公主病 ，更酸說：就讓她傷透你的心吧，反正你心臟本來就重傷了。當大衛遇上真命天女則 鼓勵他勇敢追求。現在的大衛已活到21歲，還交到一個超正女友。 《無》片主角大衛將談戀愛列為人生必做清單之一，卻不擅於跟女生聊天，更經常將一隻 破舊的洋娃娃安娜帶在身邊，還向專為重症病童完成願望的基金會申請，替娃娃換新 頭髮，但藍尼卻毫不留情吐槽帶著安娜別想把到妹，才讓大衛放下娃娃、並遇上初戀 情人。現實生活中的大衛受到藍尼的鼓勵，不僅談了戀愛，也度過生死難關，而玩咖藍尼 原本是夜夜笙歌的靠爸族，被大衛活在當下的態度感動，不僅追到白富美的女醫生， 更重拾書本考上醫學院，以當醫生為目標，劇情勵志卻不落俗套。 該片是由原本被醫生認為活不到16歲的心臟病童大衛，與主治醫師的兒子藍尼共同撰寫的 暢銷書改編而成。描述富家青年藍尼從大學輟學後就無所事事，成天上夜店與朋友廝混， 有一天喝醉了竟將跑車一路開進家中泳池，讓名醫父親忍無可忍，逼他必須陪伴有先天心 臟病的病童大衛完成人生願望清單，否則就要斷了他的一切金援。導演馬克侯特蒙曾以《 帝國大審判》入圍奧斯卡最佳外語片，新作《無》片以快節奏的喜劇笑看人生的生老病死 ，最後神來一筆的結局更是賺人熱淚。電影14日在台上映。（謝宛儒綜合報導） 我是快樂、樂觀，有過N次豐富戀愛經驗的開朗零號男同性戀。 現在會讓我擔憂的事情，只有爸媽的身體，以及買的股票會不會賠錢。 '}\n",
      "{'content': '作者 inbow (石更 火暴) 看板 movie 標題 Re: [討論] 一個人看電影包場有多難？ 時間 Mon Sep 3 07:58:33 2018 : 這裡指的是影廳內只有自己一個人看電影的情況 : 蠻常一個人去看電影 : 有時也會挑冷門片 或是冷門時段看 : 但從未遇過包場的情形 : 最接近的一次是平日早場去喜樂時代 : 看她不知道那些鳥的名字” : 這片夠冷門了吧 : 到開演前都還是我一人 : 結果開演後還是陸續有三位觀眾進場.... : 要體驗包場尊榮 : 以台北來說 : 是否是不可能的任務呢？ 我算是不太挑片的人 只要有不錯的評價都考慮去看 這三年來也幾乎自己去看電影 但包場的次數也不到十次 依我的經驗跟冷門電影或時段比較無關 快下檔時去看才比較容易包場 印象中包場的電影有 台南新光 時空叛逃者 正中午包場 當時和屍速一起上映的韓片 但名聲完全被碾壓完全沒人注意 大概兩個禮拜下檔 台南新光 第100次愛戀 午夜包場 當時沒人進來很期待包場 但開演後完全沒那麼想 因為新光出名的鬧鬼 當時邊看電影邊注意周圍有沒有多一個人 還好是沒什麼事情發生 南紡威秀 比得兔 早上包場 當時評價很好 我也是注意到快下檔才去 台南真善美 七月與安生 正中午包場 當天就只放那個場次 播完就下檔了 駁二in89 屍蹤七號房 早上包場 台南沒上跑去高雄看幸運包場 和與神同行一起上映 名聲也是被與神碾壓的韓片 大概這幾部吧 Sent from JPTT on my Asus ASUS_Z00UD. '}\n",
      "{'content': '作者 kcwwx (幸福人妻) 看板 movie 標題 [請益] 最近有什麼適合夫妻或情侶看的電影嗎？ 時間 Mon Sep 3 08:30:49 2018 自從有了寶寶，再也沒有進過電影院 跟電影已經脫節 今天是我生日，我和老公都跟公司請假 寶寶給保母帶 想說要去看電影 但卻不知道最近有什麼好看的電影 希望大家可以幫我，至少不要踩雷 我喜歡看好笑，感動，爽片 不要動腦筋的，哈哈 謝謝大家囉 '}\n",
      "{'content': '作者 yagamil18 (唉呀) 看板 movie 標題 [片單] 有這種片嗎？ 時間 Mon Sep 3 08:45:09 2018 1. 請描述欲尋找電影的類型或特徵（請盡量描述清楚） 1把對方趕走或是地盤之爭 2同居 3搬家(但非鬼片) 2. 已知符合需求的電影或偏好的電影類型（為避免重複推文，請至少列舉一部） 想不到 3. 不喜歡的電影類型 （不需要板友推薦的電影，可填刺陵） '}\n",
      "{'content': '作者 practice24 (練習24) 看板 movie 標題 Re: [討論] 一個人看電影包場有多難？ 時間 Mon Sep 3 09:17:42 2018 臺北南港喜樂大概距今一年前看電影的人跟現在比算很少 平日晚上非超熱門片 如 美國隊長3 復仇者聯盟3 侏羅紀世界1等等 幾乎都是1015人內（小廳 四排座位） 假日除非天氣超差 雨下整個週末或者有熱門片 否則也是最多一半 冷門片5 6個內都算剛好 印象中平日中午到下午曾經 遊戲王 次元的黑暗面 救命解藥 絕鯊島 都是包場看 其他5人內的時候也遇到不少次 現在就 除了大人帶小朋友那種一次5 6人以上的組合外 還多了不少車開C300 加油加300的89成群出現 然後還在立體停車場一遇到會車就猛踩煞車或者直接停下來的車版進口神車駕駛了 : 這裡指的是影廳內只有自己一個人看電影的情況 : 蠻常一個人去看電影 : 有時也會挑冷門片 或是冷門時段看 : 但從未遇過包場的情形 : 最接近的一次是平日早場去喜樂時代 : 看她不知道那些鳥的名字” : 這片夠冷門了吧 : 到開演前都還是我一人 : 結果開演後還是陸續有三位觀眾進場.... : 要體驗包場尊榮 : 以台北來說 : 是否是不可能的任務呢？'}\n",
      "{'content': '作者 Tosca ( ) 看板 movie 標題 [色色恐怖雷] 德古拉1992 時間 Mon Sep 3 09:30:18 2018 itunes上有德古拉1992年版的可以租 一次48小時60元 1080P藍光畫質 大導演柯波拉 蓋瑞歐德曼 安東尼霍普金斯 還有當年都才二十幾歲的基奴李維和維諾娜瑞德~ 他們兩個最近又有新電影 剛好來看德古拉26年前兩人合作的樣子~ 天阿 26年了~~ 26年前的電影還需要防雷?????? 算了按照規矩還是防一下 1.電影當年我記得評價就是褒貶不一 想要看恐怖片血腥刺激大開殺戒像惡靈古堡那種的 這部就不用期待了 這部的恐怖是文青風 看氣氛 看鏡頭 看暗示 聽音樂 等等 2.電影滿滿的性暗示 其實根本應該是性明示 基奴李維被關在古堡被三個大奶女妖吸血 拍起來根本是精盡人亡 縱慾過度的感覺 更不用講德古拉還變成狼人跟女配角人獸交 女配角變吸血鬼後還整天叫床叫個不停 連有幾幕薇諾娜瑞德穿比較薄的衣服 都能稍微看出那豐滿的胸部形狀 胸部真的很大=.= 然後片子中間開始就是陸續的噴血 斷頭等等 總之就是滿滿B級片fu B級片的恐怖片通常都要露奶 這部露很大以外還叫床叫不停 3.劇情就不談了 反正也沒啥劇情可言 雖然有人獸交 吃嬰兒等片段 但畫面都是點到為止 可能有人會覺得不舒服 但我想大部分會覺得還好 真正會讓人超不舒服的 像是魔法聖嬰 或是一部塞爾維亞電影 這兩部都是讓人看完超不舒服的 德古拉還差遠了 4.基奴李維真的超帥~~~ 當時還沒經歷喪子離婚之痛 看起來就是清純文青風的奶油小生 現在john wick風格看起來就是歷經滄桑 不過都很帥 5.特別提一下電影配樂是波蘭作曲家Kilar 音樂風格非常的歌德中世紀 合唱又悲壯 我認為很值得一聽 後來這部電影的音樂有弄成組曲讓音樂會可以演奏 古典音樂廠牌NAXOS出過這張唱片 apple music和sptofiy上都可以聽到 https://www.naxos.com/catalogue/item.asp?item_code=8.557703 總之這部花60元看年輕的基奴李維和薇諾娜瑞德應該就值得了 還有滿滿的大胸部和叫床聲 又是藍光畫質 推薦大家可以租來看看 '}\n",
      "{'content': '作者 qpr322 (龍魚) 看板 movie 標題 [新聞] 王家衛監製萬瑪才旦新片《撞死了一隻羊》首曝預告 時間 Mon Sep 3 10:30:46 2018 新聞網址： http://news.mtime.com/2018/09/03/1583902.html 由王家衛監製、澤東電影出品製作、萬瑪才旦執導的影片《撞死了一隻羊》曝光威尼斯電 影節海報及預告片，影片濃郁的東方神秘氣息撲面而來。片是本屆威尼斯電影節唯一入圍 競賽單元的中國電影，將於當地時間4日將在“地平線”競賽單元世界首映。 《撞死了一隻羊》是萬瑪才旦與澤東電影的首度合作，王家衛擔任監製，更 有曾斬獲戛納電影節、金馬獎、金像獎等多項國內外電影大獎的幕後團隊參與製作，讓迷 人的故事在大銀幕得到完美呈現。聊及與萬瑪才旦的合作，王家衛表示：“萬瑪才旦是當 代的一位重要導演，我們很榮幸能與他合作拍這部電影。” 《撞死了一隻羊》劇本改編自次仁羅布短篇小說《殺手》和萬瑪才旦的短篇 小說《撞死了一隻羊》，由藏族演員金巴、更登彭措、索朗旺姆出演，講述了一個複仇的 故事。 萬瑪才旦透露：“這是一個殺手故事 但它和其他的殺手故事不同，我喜歡 這個故事的講述方式。”同時，他表示此次做了很多不同以往的嘗試，片中有黑色幽默等 諸多元素。 今日曝光的國際版預告中，亦能初見導演在影片色彩及敘事風格上的嘗試與 突破，黑白影像與彩色畫面交替切換，夢境與現實虛晃交錯，一段難分虛實的複仇故事鋪 展開來，獨具夢幻和寓言色彩，而一句“如果我讓你進入我的夢，那也會成為你的夢”的 藏族諺語，更是令人聯想萬千。 影片還同步曝光了國際版海報，巨大的金色曼陀羅下，兩位主人公背向而立 ，背後有神秘人物駐足凝視兩人，暗灰的色調與獨具藏族特色的細節，充滿神秘與夢幻之 感，黑色藏族公路電影的氣息撲面而來。 導演萬瑪才旦的電影一向聚焦藏族文化，描繪藏族人民的生存現狀，其作品 令國內外觀眾對藏地有了更多認知，此前“藏地三部曲”《靜靜的嘛呢石》、《尋找智美 更登》和《老狗》更是獲國內外多個電影節獎項。 2015年，《塔洛》首次闖入三大電影 節，入圍威尼斯電影節“地平線”競賽單元。而今，其新作《撞死了一隻羊》再次入圍威 尼斯電影節“地平線”競賽單元，是本屆唯一入圍競賽單元的中國電影。 http://video.mtime.com/71804/?mid=259147 https://i.imgur.com/OkrUWYt.jpg'}\n",
      "{'content': '作者 ru899 (白噪音) 看板 movie 標題 [選片] 鬼病院vs瘋人院 時間 Mon Sep 3 10:56:48 2018 兩部都是今年差不多時間上映的片，基於本人臭俗辣 恐怖片都不敢進電影院看，現在才想用google電影一片20元的優惠租來看看 優惠只有一部(是說 這只是藉口啦><怕一下子兩部都看對心臟不好) 求兩部都看過的人 指點一二。 目前只知道前者是韓國片 後者是美國片，個人比較怕虐殺類血腥，其他沒有什麼特殊偏好，只求二選一部優先看不會後悔的 拜託了 '}\n",
      "{'content': '作者 hijames (hijames) 看板 movie 標題 [請益] 私刑教育2(有雷) 時間 Mon Sep 3 11:00:10 2018 防雷頁 請問私刑教育2 最後大衛在頂樓的時候 忽然有一陣強風然後有電線把他的脖子勒住 想請問這幕是丹佐弄得 還是他只是倒楣遇上颱風的電線纏繞 那天看完一直想不通 想跟板上請教 謝謝 '}\n",
      "{'content': '作者 h2030625 (雙重人格) 看板 movie 標題 [請益] 賈維斯Jarvis有機會回來了嗎? 時間 Mon Sep 3 11:15:22 2018 Jarvis 鋼鐵人最得利的助手 朋友 進化成幻視之後馬上跟老婆跑了 而且內戰 復3 完全沒屁用 然後復3 幻視死了心靈寶石被拔走 不知道賈維斯能不能獨立出來了 OAO '}\n",
      "{'content': '作者 pipiboygay (喜歡男人的男生) 看板 movie 標題 [新聞] 21歲超殺女老樣子 格雷女嫣紅香肩完勝 時間 Mon Sep 3 11:17:41 2018 新聞網址： https://tw.entertainment.appledaily.com/daily/20180903/38115529 21歲超殺女老樣子 格雷女嫣紅香肩完勝 威尼斯影展 謝宛儒綜合報導美國女星格雷女達珂塔強生（Dakota Johnson）主演的恐怖片 《窒息》（Suspiria）在威尼斯影展舉行世界首映，她身穿Dior紅色緞面平口禮服登場， 美豔動人，劇組更以紅、黑色系服裝走上紅毯。同片演出的21歲超殺女克蘿伊莫瑞茲 ，以深藍色印花洋裝亮相，搭藍綠色眼妝，還青春地比YA，仍被酸造型老氣。 恐怖片《窒息》翻拍1977年義大利邪典作《坐立不安》，片中達珂塔與克蘿伊飾演的美國 芭蕾舞者參加西柏林的知名舞團，卻接連發生有人失蹤、暴斃與種種離奇異象，矛頭都指 向蒂達史雲頓飾演的舞團總監。 殺青後需心理諮商 達珂塔更有藉跳舞，隔空凹斷他人身軀、血尿噴發的畫面，十分駭人。 達珂塔在記者會上表示演出該片後她得找心理諮商師，當你的工作題材比較黑暗，它會 繼續影響你，而我覺得拍攝結束後能找人談談，是揮別這個工作很棒的方式，我的心理治 療師是一位很好的女士。 電影首映後評價兩極，多數影評讚嘆恐怖氣氛令人毛骨悚然，業界刊物《好萊塢報導》更 評該片為藝術驚悚片。電影預計11月在台上映。 我是快樂、樂觀，有過N次豐富戀愛經驗的開朗零號男同性戀。 現在會讓我擔憂的事情，只有爸媽的身體，以及買的股票會不會賠錢。 '}\n",
      "{'content': '作者 mysmalllamb (小羊) 看板 movie 標題 [好雷] 莫莉夢妮與神奇的催眠書 時間 Mon Sep 3 12:18:40 2018 0雷文防雷資訊頁 ~~~~~~~~~~~~~ 1.影片名稱 : 莫莉夢妮與神奇的催眠書 Molly Moon and the Incredible Book of Hypnotism 2.觀影時間 : 2018/09/02 20:00 3.觀影地點 : 住家網路 4.觀影方式 : 網路，iTunes英國版 其他防雷說明 : 感謝 jing84112420 大在 2016 年一月的文章，讓我發現好片 ~~~~~~~~~~~~~ 不知大家是否認識 2015 迪士尼樂園宣傳片《明日世界》的蘿莉機器人雅典娜？或是大家更熟悉 2017 年尤格蘭西莫怪片《聖鹿之死》那美腿長如希臘戰艦的大女兒？少女演員 Raffey Cassidy 也許只是演技優秀的童星之一還不到拔尖、但卻是令我這大叔看得魂牽夢縈幻想有個這樣女兒的小天使她在這兩三年演過幾部大片後迅速長高已經不能再當童星了，倒是這部英國電影《莫莉夢妮與神奇的催眠書》以她為獨挑大樑的女主角、完整記錄了她童年青春聰慧的魅力這部片我推薦家長帶小學孩子一起看，也許父子可以初次一起仰慕一位銀幕情人呢 <3 https://imgur.com/Pe8i8e4 此片由《哈利波特》電影的製作人大衛海曼慧眼改編，這次他選的是英國作家 Georgia Byng 從 2002 年開始出版的系列小說 Molly Moon 系列，就從系列第一集 Molly Moons Incredible Book of Hypnotism開始。這個小女孩主角的系列童書有不可思議的催眠書(2002)、凍結世界(2004)、時空旅行催眠(2005)、心智機器(2007)、神秘變形(2010)、與音樂怪獸(2012)，目前總共六本。我個人是覺得這個系列比其實有一點點成人的《哈利波特》系列更有純粹的童心、也更深入淺出適合孩子欣賞、一起思量孩子生活中所愛所恨所幻想的點點滴滴。 有點可惜，這部打頭陣的《莫莉夢妮與神奇的催眠書》評價與票房並不好、英國卡司不夠黃金製作價值也不夠高、恐怕拍完一集就要胎死腹中（這樣也好，畢竟會長大到亭亭玉立的 Raffey Cassidy 不可能演蘿莉演六集）。看看IMDb，評價不高的觀眾普遍稱讚導演演技製作設計俱佳但看起來就像電視電影不太適合大銀幕，再看看爛番茄影評普遍批評只是一部傻氣的孩子電影僅有少數讚譽真正為孩子拍的兒童電影，我們大概可以知道它的市場定位：在這超英電影甚至迪士尼動畫全部成人導向忘卻孩子時，這仍是一部孩子電影，儘管影評鄙視仍值得親子欣賞。 這位 Molly Moon 的背景是孤兒，她在月黑風高的夜晚丟在孤兒院門口才得到 Moon 這個孤寂的地理姓氏。當然我們一起看的親子觀眾都不是孤兒，但此片一方面可以讓孩子們認識許多比自己艱苦的孤兒之處境、另一方面可以在孤兒的夢想上看見自己不論有沒有父母都有的獨立夢想、第三面則能從 Molly的冒險中看見大人世界不論是師長還是父母的荒腔走板與苦衷、然後自己以孩子之姿站穩腳跟鼓勵自己鼓勵同儕甚至鼓勵千瘡百孔的大人們對我來說，這是一部最理想的兒童勵志電影，訴求的不是各種粉紅泡泡與大人寵愛，而是讓孩子學習自己獨立強壯散播愛。 此片 Molly Moon 在孤兒院的苦悶生活，當然有一切 19 世紀以降英國孤兒文學的經典老梗：一定有個恐怖的孤兒院長、也一定有一群無奈但仁慈的修女或師長們；一定有主角同氣連枝的兄弟姊妹、也一定有與主角對立的霸凌太保或太妹們；一定有大人世界剝削孩子的惡形惡狀、也一定有大人中保持純善初衷的仁慈長輩；大人中一定也有游移在世故與純善之間的迷惘心靈、就等孩子主角獨立起來自己找到出路也給創傷大人甚至罪咎一個溫暖的擁抱。看這種片，不只是看溫馨讓孩子得到撫慰與滿足、更是讓孩子獨立起來強壯起來成為大人的夥伴呀 此片也集結了不少英國大人演技派卡司，當然孤兒院片大人以女性居多，有《霓裳魅影》Leslie Manville 演孤傲校長、有《無情荒地有琴天》Emily Watson演仁慈師長、有同片演杜普蕾媽媽的 Celia Imrie演壓抑的校園廚娘。小女孩 Molly Moon 的童心與魔法，就是要來融化這些世故僵硬汲營事功的大人心，要讓受傷的老師受到鼓勵、要讓行屍走肉的廚娘重新找到美食初衷、更要讓霸凌校長重新找到辦學照顧孤兒的初衷更別說，童書的經典反派 Nockman教授在一回回對壘之中，讓劍拔弩張的 Molly知道他才不是我敵人而是與我一般的孤兒心靈，不再敵對而要攜手 電影的奇幻梗，就是那片名的催眠書，是一本失落已久的魔幻寶典、讀了就可以以眼神操控他人服膺自己，這當然是所有小孩的夢想、覺得有這本書就可以讓平日規訓我們的大人終於乖乖聽我話了？此片這本奇幻書當然是個迷人的魔幻夢想、當然也讓小孩主角 Molly盡興駕馭揮灑一回，不過當然也會讓 Molly意識到這一切都只是虛幻、用魔法讓別人遵從自己滿足自己的幻想終究只是一場空、還不如擁抱自已身邊那踏實的處境、踏實的友情、踏實的理想。 Molly 一開始陰錯陽差發現了催眠書、也完全不浪費機會把催眠學了個全、然後面對所有平日或庸碌或霸道的大人全部都用這招催眠解決問題改變他們。只是，大人從來沒有比小孩強到哪去、只是世故的偽裝能力與毅力比純真小孩強一百倍也虛偽一百倍。電影中的學校師長人人庸庸碌碌滿臉堆笑餬口飯吃，總是莫名其妙傷害孩子但孩子終有一天理解了就能撫慰她們；電影經典反派 Nockman雖是個大人教授但其實也只是個媽寶、一樣受到傲慢大人的規訓利用、反而讓自己年輕個三十歲重拾主角 Molly的童心後、正派反派才終於大和解站在一起共度難關。 電影中的 Molly一開始充滿孤兒情結、每每聽到遺棄兩字總不願承認、總希望我也曾經是哪對父母心心念念的掌上明珠；Molly 經歷一趟自大耍蠢的冒險、見識一群自己從前鄙視的虛偽小孩之苦衷、也見識一群自己從前瞧不起的傲慢大人之苦衷，然後終於能體諒他們放下他們甚至強壯起來度化他們：你我不分年紀不分階級，我們都在這或實質失怙或父母缺席的孤獨世界一路走來，我們且放下自己的遺棄焦慮強壯起來、繼憤恨遺棄就從自己做起絕不放棄任何身邊與眼前的人。終究，每一個孤獨的孩子都能獨立成就自己改善世界、甚至在未知世界撫慰從不相識的無緣父母。 電影從英南 Surrey 郡不知名小鎮 Shere開始拍 Molly的冒險、一路搭上了英國統聯 National Coach 來到了紙醉金迷的倫敦大都會渴望成為光鮮亮麗的兒童明星。然而，片名的這本催眠書儘管一開始透過體察他人接近他人進而與他人心心相印的誠意是十分美好、但撈過界後催眠小孩催眠大人催眠媒體甚至催眠機器可就走火入魔了。這是所有孩子給三分顏色開起染坊的自大膨風、卻也是給所有孤寂孩子認識異己體察他人的出發點。這是一部兒童電影，但絕不止訴求父母師長都疼妳愛妳的溫馨好棒棒，而是要孩子自己審視自我、探索自我、衝撞世界、然後終於認識理解。 我們的小主角 Molly，也並不是一路清純走來、而是一路跌跌撞撞錯誤罪疚千瘡百孔走來，也許自己千瘡百孔後、才能體察千瘡百孔的世故大人心？Molly 自己超在意被父母遺棄、自己卻陰錯陽差遺棄了青梅竹馬好夥伴；Molly 自己討厭膨風霸凌的花蝴蝶、自己竟不知不覺飛上雲端成為新的花蝴蝶；Molly 超討厭大人的規訓凝視、然而自己一雙綠眼催眠別人乖乖聽我命令、又何嘗不是複製了大人的操控與凝視？ 這是一部所有小孩不論幸福不幸福、失怙不失怙，都值得一看的道德童話，它一方面訴求孩子世故體察世界要催眠、就要先了解對方體察對方代入對方、另一方面又訴求孩子在我不知不覺已漸漸走上大人事故老路的世代循環下潑自己一頭冷水冷靜超越。此片有不論大人小孩都會愛上的蘿莉正妹 Raffey Cassidy 、有正視世界卻正向面對的劇情敘事、也有大人小孩其實同一家分享喜樂苦悶只是不同時代形式不同的包容世界觀。我推薦所有與自己孩子已經達至一種跨世代夥伴關係的親子欣賞，在此可以自我成長可以互相理解也可以自我超越。強力推薦 https://www.youtube.com/watch?v=e0YoHi1vG_g 所以囉， 也許需要一點在混沌世界中迷茫摸索關注孩子成長的父母心、或關注他人的孩子心 :)'}\n",
      "{'content': '作者 magicscott (magic大雄) 看板 movie 標題 Re: [討論] 一個人看電影包場有多難？ 時間 Mon Sep 3 12:28:37 2018 : 引述《bbsbox (bbsbox)》之銘言： : : 這裡指的是影廳內只有自己一個人看電影的情況 : : 蠻常一個人去看電影 : : 有時也會挑冷門片 或是冷門時段看 : : 但從未遇過包場的情形 : : 最接近的一次是平日早場去喜樂時代 : : 看她不知道那些鳥的名字” : : 這片夠冷門了吧 : : 到開演前都還是我一人 : : 結果開演後還是陸續有三位觀眾進場.... : : 要體驗包場尊榮 : : 以台北來說 : : 是否是不可能的任務呢？ : 台南南紡夢時代 : 晚上11點40。平日 : 鬼病院 : 當天只有我跟朋友一組，以及坐在我們正後方的一對情侶 : 那時在看的時候好怕轉過頭去，那對情侶是全黑眼珠 : 怕爆 兩年前 桃園舊統領戲院 (現在改很新了) 我和我娘禮拜六去看《蝙蝠俠對超人》午夜場 00:40開演 現場除了我們0人.... 鬧區(勉強算) 熱門商業大片(上映隔週) 週六晚間 還可以0人 這個機會應該沒幾個人可以碰到了吧...囧 早知道就帶我女友去了...... 如果有的話.... '}\n",
      "{'content': '作者 ios6 (iosꌶ) 看板 movie 標題 [討論] 霸王別姬倒數第二幕的紅燈記的意義？ 時間 Mon Sep 3 13:03:11 2018 防雷 霸王別姬的倒數第二幕 菊仙萬念俱灰 回到已經被貼滿大字報的宅子裡上吊 這時候想起了中國的革命樣板京劇劇 紅燈記中的一段 聽奶奶 講革命 英雄悲壯 在這個人倫悲劇的橋段放這段革命樣板段子的意義是？ 是在稱頌革命？還是在諷刺文化大革命造成人倫的悲劇？ 會是哪一種呢？？？ '}\n",
      "{'content': '作者 Newstart (振作起來的理由) 看板 movie 標題 [問片] 一部多年前的驚悚片 時間 Mon Sep 3 13:06:17 2018 想找一部大約10年前看過的西洋片 片中只有男女主角是一對夫妻 總之開車出去露營之類的，但是到的地點似乎很詭異(印象有森林/海灘) 然後兩個人就一直吵架 最後男的先掛點 女的最後要逃離時被車撞死... 想重溫一下，謝謝 請版友幫忙 '}\n",
      "{'content': '作者 molunjojo (飄飄) 看板 movie 標題 [問片] 一部青春校園電影 時間 Mon Sep 3 13:07:08 2018 在電視上看到的，記憶非常模糊，記得的片段很八股，上來問問看 是一部洋片，男女主角劇中年紀在國高中 女主角好像俗俗的，在一個舞會上，和心儀的男生一起登台 舞會在室內，忘記是什麼名目的舞會（疑似畢業舞會、女主角生日舞會還是搬家送別會... ......真的忘了） 印象中女主角家人有在場（？） 大概是這樣 '}\n",
      "{'content': '作者 IT13 (Iam梯么3) 看板 movie 標題 [普雷] 粽邪 拿送肉粽當噱頭的平凡鬼片 時間 Mon Sep 3 14:14:14 2018 真的感覺很可惜耶 整個套路太公式了 以下雷文 看到預告大概就能猜到 其實整部就像大家說的 抽離送肉粽也不會有任何影響 因為 整個怨氣就不是電影開頭那次送肉粽沒送成造成的rrrrrrr 我就覺得奇怪 為什麼吊死的那個女生和預告我看到的被霸凌的女生不一樣 我本來以為 猜想的劇情是 被霸凌的女生上吊以後 村子要送肉粽 但是因為男主角和他朋友直播加白目亂搞 沒送成 法師也沒發現結果陸續造成其他人離奇上吊 才發現原來是沒送成 而且被霸凌 怨氣太深 普通的送肉粽根本化解不掉 只好找出來談判之類的 但是根本不是這樣...... 解決的方式 根本不是靠送肉粽 而且也沒真正解決 從頭到尾就是部被霸凌而死的冤魂 趁機報仇被霸凌者 唯一可以當作爆點的是 女主角原來也是加害者之一 但整個劇情埋的很爛啊.............. 看預告就知道死者是被霸凌才含冤而死 所以要報仇 大家都知道 惡有惡報 所以霸凌者會死光 然後女主角 前面就已經一直鋪陳她一臉心虛 看到她真的和死者喜歡的男生在一起 甚至那男生就是白目男主角完全沒有任何覺得驚訝的點 就是 喔 嗯 早就想到了 整個劇情好猜到爆炸 沒什麼爆點 角色也不討喜 死者就是那種最常見的對自己沒信心又很溫吞的個性 霸凌者就是各種囂張 死前才後悔的那種 女主角我妹直接說根本綠茶婊 男主角就是鬼片最常有的白目角色 有夠公式的啦................... 其他的吐點 包括死不燒繩子 拿著繩子一直說可是 書儀 你家書儀都快被掐死了 法師也喊到沒聲音了 死不燒繩子是哪招 然後到底小女生的交換日記有什麼好看的 讓你放女主角一個人在樓上 在停電黑暗的房間 你是不是忘記 她的一個高中同學才被勒死 我昨天才在和我妹討論 鬼片喜歡製造角色獨處 因為這樣才夠恐怖 但是你不能太刻意啊........ 像停電那邊 我死都想不透為什麼男女主角不要一起行動 放女主角一個人在那邊 然後就真的出事了 真的是好棒棒 還有個吐槽點 一開始送肉粽的時候 送的不順 有繩子掉下來 被白目胖子隨便扔進海裡 原本以為是個伏筆 然後就沒有然後了 看的我黑人問號 缺點 吐點 發洩完 來講講可取之處 送肉粽的儀式 原汁原味非常詳盡 有人覺得這部份太短 我倒是覺得電影很有誠意了 但是和本片的連結太薄弱了 讓人覺得根本消費 其實我跟我妹還討論到一個點 送肉粽這部份被吐槽說太少 會不會是因為劇情太爛 無可期待 所以反過來檢討送肉粽這部少數的其中一處亮點太短 畢竟 像屍憶 有提到冥婚 但冥婚的部份其實也沒很長 大家還是覺得很不錯 因為屍憶和冥婚的連結不錯劇情又鋪陳的不錯 大家就不會檢討這個 反過來說 粽邪的劇情無可期待之處 和傳統習俗送肉粽的連結根本牽強 才會讓大家覺得送肉粽的部份可以增加 演員也是一大亮點 女主角 宋芸樺 我是說夏于喬 演的真的不錯 把那種心事重重若有所思演的很不錯 在學生時代 一開始開朗 但從和李妍開始討論喜歡的男生那邊 就開始表情越來越複雜 說真的看到女主角的表情真的很好猜結局 李亞臻和孫可芳也演的不錯 被霸凌者的委曲 遇到知心好友的開心 覺得自己長的不好看的自卑 李亞臻都有抓到點 讓人不禁同情 而最讓人動容的 應該是她掐住書儀 書儀跟她道歉那邊她一直哭 猙獰的表情和淒厲的叫聲 滿揪心的 孫可芳我也覺得很驚艷 可惜戲份比較少 一開始會注意到這個演員是天黑請閉眼 那邊的角色算是比較強勢 一種外柔內剛的概念 這次不一樣了 是演個沒什麼心機 但很兇悍的女生 霸凌李妍 還一副得意的表情 而且抓破李妍臉的時候 那個狠勁真的怕 而長大以後發現好友一一離奇死掉 那種開始擔心害怕的神情 反差詮釋的很好 演最好的一幕 應該是最初和胖子擦身而過那邊 匆匆離開像是做了什麼虧心事的逃離 還不錯 其餘的 阿西就不用說了 戲劇界老手 法師當的很稱職 看到自己拿手的不管用的時候 臉上驚恐的表情 發抖的聲音也是逼真 演員表現的不錯就可惜被劇情糟蹋浪費 題材不錯還是被浪費 '}\n",
      "{'content': '作者 stepaside (紐牛) 看板 movie 標題 [選片] 命帶追逐 引爆點 小偷家族 時間 Mon Sep 3 15:04:56 2018 手機排版，跪求不要噓我嗚嗚 三部都是近期內有些心動的片 不知道大家比較推哪一部呢？ 身邊較多人看過小偷家族， 似乎比較沉重呢。 命帶追逐預告片看起來ㄎㄧㄤㄎㄧㄤ的， 不曉得會不會其實內容不有趣。 引爆點是衝著吳慷仁的演技， 可是版上滿多負評的。 休假想出門看電影， 請求各位推薦了~~~~ 感謝感謝 Sent from JPTT on my Samsung SMJ730GM. '}\n"
     ]
    }
   ],
   "source": [
    "for i in result:\n",
    "    print(i)"
   ]
  },
  {
   "cell_type": "code",
   "execution_count": null,
   "metadata": {},
   "outputs": [],
   "source": []
  }
 ],
 "metadata": {
  "kernelspec": {
   "display_name": "Python 3",
   "language": "python",
   "name": "python3"
  },
  "language_info": {
   "codemirror_mode": {
    "name": "ipython",
    "version": 3
   },
   "file_extension": ".py",
   "mimetype": "text/x-python",
   "name": "python",
   "nbconvert_exporter": "python",
   "pygments_lexer": "ipython3",
   "version": "3.6.6"
  }
 },
 "nbformat": 4,
 "nbformat_minor": 2
}
